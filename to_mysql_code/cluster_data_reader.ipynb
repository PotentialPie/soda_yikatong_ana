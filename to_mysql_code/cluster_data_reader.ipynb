{
 "cells": [
  {
   "cell_type": "code",
   "execution_count": 4,
   "metadata": {},
   "outputs": [],
   "source": [
    "import pandas as pd\n",
    "import numpy as np\n",
    "from datetime import datetime\n",
    "from sqlalchemy import create_engine\n",
    "import pymysql\n",
    "pymysql.install_as_MySQLdb()\n",
    "import os\n",
    "import sys, urllib, json\n",
    "import time\n",
    "import csv"
   ]
  },
  {
   "cell_type": "code",
   "execution_count": 5,
   "metadata": {},
   "outputs": [],
   "source": [
    "host = '127.0.0.1'\n",
    "port = 3306\n",
    "db = 'soda_data_repo'\n",
    "user = 'root'\n",
    "password = '19940301'\n",
    "# engine = create_engine(str(r\"mysql+mysqldb://%s:\" + '%s' + \"@%s/%s\") % (user, password, host, db))\n",
    "\n",
    "conn = pymysql.connect(host=host,port=port,user=user,password=password,database = db)\n",
    "cursor = conn.cursor()"
   ]
  },
  {
   "cell_type": "code",
   "execution_count": 6,
   "metadata": {},
   "outputs": [],
   "source": [
    "def query(cur, sql, args):\n",
    "    cur.execute(sql, args)\n",
    "    results = cur.fetchall()\n",
    "    return results"
   ]
  },
  {
   "cell_type": "code",
   "execution_count": 11,
   "metadata": {},
   "outputs": [
    {
     "name": "stdout",
     "output_type": "stream",
     "text": [
      "31\n",
      "['/usr/soda_data_set/subway/1801/s180122.csv', '/usr/soda_data_set/subway/1801/s180106.csv', '/usr/soda_data_set/subway/1801/s180118.csv', '/usr/soda_data_set/subway/1801/s180129.csv', '/usr/soda_data_set/subway/1801/s180105.csv', '/usr/soda_data_set/subway/1801/s180101.csv', '/usr/soda_data_set/subway/1801/s180108.csv', '/usr/soda_data_set/subway/1801/s180126.csv', '/usr/soda_data_set/subway/1801/s180130.csv', '/usr/soda_data_set/subway/1801/s180116.csv', '/usr/soda_data_set/subway/1801/s180119.csv', '/usr/soda_data_set/subway/1801/s180115.csv', '/usr/soda_data_set/subway/1801/s180107.csv', '/usr/soda_data_set/subway/1801/s180109.csv', '/usr/soda_data_set/subway/1801/s180125.csv', '/usr/soda_data_set/subway/1801/s180104.csv', '/usr/soda_data_set/subway/1801/s180128.csv', '/usr/soda_data_set/subway/1801/s180117.csv', '/usr/soda_data_set/subway/1801/s180114.csv', '/usr/soda_data_set/subway/1801/s180111.csv', '/usr/soda_data_set/subway/1801/s180102.csv', '/usr/soda_data_set/subway/1801/s180113.csv', '/usr/soda_data_set/subway/1801/s180120.csv', '/usr/soda_data_set/subway/1801/s180103.csv', '/usr/soda_data_set/subway/1801/s180131.csv', '/usr/soda_data_set/subway/1801/s180112.csv', '/usr/soda_data_set/subway/1801/s180127.csv', '/usr/soda_data_set/subway/1801/s180124.csv', '/usr/soda_data_set/subway/1801/s180121.csv', '/usr/soda_data_set/subway/1801/s180110.csv', '/usr/soda_data_set/subway/1801/s180123.csv']\n"
     ]
    }
   ],
   "source": [
    "csv_list = []\n",
    "def gci(filepath):\n",
    "#遍历filepath下所有文件，包括子目录\n",
    "    files = os.listdir(filepath)\n",
    "    for fi in files:\n",
    "        fi_d = os.path.join(filepath,fi)\n",
    "        if os.path.isdir(fi_d):\n",
    "            gci(fi_d)\n",
    "        else:\n",
    "            file_path = os.path.join(filepath,fi_d)\n",
    "            if file_path.endswith('csv'):\n",
    "                #print(file_path)\n",
    "                csv_list.append(file_path)\n",
    "    return csv_list\n",
    "csv_list = gci('/usr/soda_data_set/subway/1801')\n",
    "print(len(csv_list))\n",
    "print(csv_list)"
   ]
  },
  {
   "cell_type": "code",
   "execution_count": 22,
   "metadata": {},
   "outputs": [
    {
     "name": "stdout",
     "output_type": "stream",
     "text": [
      "开始查表咯： soda_s180122_tb\n",
      "SELECT card_id, count(*) total_num, count(distinct(line)) line_num,     count(case when  week>=0 and week<=4 then 1 else null end) weekday_num,     count(case when  is_discount = 0 then 1 else null end) discount_num     FROM soda_s180122_tb GROUP BY card_id;\n",
      "((10193738, 1, 1, 1, 1), (10299348, 1, 1, 1, 1), (10312443, 1, 1, 1, 0), (10465088, 1, 1, 1, 1), (10600938, 1, 1, 1, 0), (10607074, 1, 1, 1, 1), (10645356, 1, 1, 1, 0), (10661988, 1, 1, 1, 1), (10666717, 1, 1, 1, 0), (10672347, 1, 1, 1, 0))\n",
      "267.5461177825928\n",
      "开始查表咯： soda_s180106_tb\n",
      "SELECT card_id, count(*) total_num, count(distinct(line)) line_num,     count(case when  week>=0 and week<=4 then 1 else null end) weekday_num,     count(case when  is_discount = 0 then 1 else null end) discount_num     FROM soda_s180106_tb GROUP BY card_id;\n",
      "((10137045, 1, 1, 0, 1), (10360446, 1, 1, 0, 0), (10511314, 1, 1, 0, 0), (10583589, 1, 1, 0, 1), (10589813, 1, 1, 0, 1), (10624175, 1, 1, 0, 1), (10632392, 1, 1, 0, 1), (10673949, 1, 1, 0, 1), (10694502, 1, 1, 0, 1), (10764332, 1, 1, 0, 1))\n",
      "197.15043878555298\n",
      "开始查表咯： soda_s180118_tb\n",
      "SELECT card_id, count(*) total_num, count(distinct(line)) line_num,     count(case when  week>=0 and week<=4 then 1 else null end) weekday_num,     count(case when  is_discount = 0 then 1 else null end) discount_num     FROM soda_s180118_tb GROUP BY card_id;\n",
      "((10143866, 1, 1, 1, 0), (10184928, 1, 1, 1, 0), (10414082, 1, 1, 1, 1), (10467584, 1, 1, 1, 0), (10505048, 1, 1, 1, 1), (10565842, 1, 1, 1, 0), (10609884, 1, 1, 1, 0), (10623543, 1, 1, 1, 0), (10636037, 1, 1, 1, 0), (10686154, 1, 1, 1, 0))\n",
      "305.65340971946716\n",
      "开始查表咯： soda_s180129_tb\n",
      "SELECT card_id, count(*) total_num, count(distinct(line)) line_num,     count(case when  week>=0 and week<=4 then 1 else null end) weekday_num,     count(case when  is_discount = 0 then 1 else null end) discount_num     FROM soda_s180129_tb GROUP BY card_id;\n",
      "((10571858, 1, 1, 1, 0), (10601307, 1, 1, 1, 0), (10690328, 1, 1, 1, 1), (10765221, 1, 1, 1, 1), (10777683, 1, 1, 1, 0), (10794647, 1, 1, 1, 0), (10799628, 1, 1, 1, 0), (10840293, 1, 1, 1, 0), (10898635, 1, 1, 1, 1), (10899339, 1, 1, 1, 1))\n",
      "241.76540517807007\n",
      "开始查表咯： soda_s180105_tb\n",
      "SELECT card_id, count(*) total_num, count(distinct(line)) line_num,     count(case when  week>=0 and week<=4 then 1 else null end) weekday_num,     count(case when  is_discount = 0 then 1 else null end) discount_num     FROM soda_s180105_tb GROUP BY card_id;\n",
      "((10184041, 1, 1, 0, 0), (10461616, 1, 1, 0, 0), (10485543, 1, 1, 0, 0), (10579632, 1, 1, 0, 0), (10590971, 1, 1, 0, 0), (10632289, 1, 1, 0, 1), (10638947, 1, 1, 0, 0), (10688850, 1, 1, 0, 0), (10711192, 1, 1, 0, 0), (10715221, 1, 1, 0, 0))\n",
      "318.27870774269104\n",
      "开始查表咯： soda_s180101_tb\n",
      "SELECT card_id, count(*) total_num, count(distinct(line)) line_num,     count(case when  week>=0 and week<=4 then 1 else null end) weekday_num,     count(case when  is_discount = 0 then 1 else null end) discount_num     FROM soda_s180101_tb GROUP BY card_id;\n",
      "((10305517, 1, 1, 1, 1), (10404371, 1, 1, 1, 0), (10475262, 1, 1, 1, 0), (10653197, 1, 1, 1, 0), (10839850, 1, 1, 1, 0), (10845781, 1, 1, 1, 0), (10867218, 1, 1, 1, 0), (10879635, 1, 1, 1, 1), (10907769, 1, 1, 1, 1), (10924235, 1, 1, 1, 1))\n",
      "186.41803789138794\n",
      "开始查表咯： soda_s180108_tb\n",
      "SELECT card_id, count(*) total_num, count(distinct(line)) line_num,     count(case when  week>=0 and week<=4 then 1 else null end) weekday_num,     count(case when  is_discount = 0 then 1 else null end) discount_num     FROM soda_s180108_tb GROUP BY card_id;\n",
      "((10376081, 1, 1, 1, 1), (10543457, 1, 1, 1, 0), (10605120, 1, 1, 1, 0), (10700573, 1, 1, 1, 0), (10784916, 1, 1, 1, 0), (10832604, 1, 1, 1, 0), (10864125, 1, 1, 1, 0), (10864875, 1, 1, 1, 0), (10887802, 1, 1, 1, 0), (10916205, 1, 1, 1, 0))\n",
      "297.76560950279236\n",
      "开始查表咯： soda_s180126_tb\n",
      "SELECT card_id, count(*) total_num, count(distinct(line)) line_num,     count(case when  week>=0 and week<=4 then 1 else null end) weekday_num,     count(case when  is_discount = 0 then 1 else null end) discount_num     FROM soda_s180126_tb GROUP BY card_id;\n",
      "((10184221, 1, 1, 0, 0), (10243573, 1, 1, 0, 0), (10281577, 1, 1, 0, 0), (10399312, 1, 1, 0, 0), (10447109, 1, 1, 0, 0), (10572033, 1, 1, 0, 1), (10722899, 1, 1, 0, 0), (10765981, 1, 1, 0, 0), (10803217, 1, 1, 0, 1), (10819666, 1, 1, 0, 1))\n",
      "251.82015204429626\n",
      "开始查表咯： soda_s180130_tb\n",
      "SELECT card_id, count(*) total_num, count(distinct(line)) line_num,     count(case when  week>=0 and week<=4 then 1 else null end) weekday_num,     count(case when  is_discount = 0 then 1 else null end) discount_num     FROM soda_s180130_tb GROUP BY card_id;\n",
      "((10334488, 1, 1, 1, 0), (10387785, 1, 1, 1, 0), (10462239, 1, 1, 1, 0), (10483123, 1, 1, 1, 1), (10483375, 1, 1, 1, 0), (10483613, 1, 1, 1, 0), (10549580, 1, 1, 1, 1), (10550407, 1, 1, 1, 0), (10559899, 1, 1, 1, 0), (10648940, 1, 1, 1, 0))\n",
      "257.40819334983826\n",
      "开始查表咯： soda_s180116_tb\n",
      "SELECT card_id, count(*) total_num, count(distinct(line)) line_num,     count(case when  week>=0 and week<=4 then 1 else null end) weekday_num,     count(case when  is_discount = 0 then 1 else null end) discount_num     FROM soda_s180116_tb GROUP BY card_id;\n",
      "((10514412, 1, 1, 1, 0), (10524415, 1, 1, 1, 0), (10526082, 1, 1, 1, 0), (10538240, 1, 1, 1, 0), (10587343, 1, 1, 1, 0), (10599917, 1, 1, 1, 0), (10600162, 1, 1, 1, 0), (10606807, 1, 1, 1, 0), (10609544, 1, 1, 1, 0), (10615172, 1, 1, 1, 0))\n",
      "323.5330171585083\n",
      "开始查表咯： soda_s180119_tb\n",
      "SELECT card_id, count(*) total_num, count(distinct(line)) line_num,     count(case when  week>=0 and week<=4 then 1 else null end) weekday_num,     count(case when  is_discount = 0 then 1 else null end) discount_num     FROM soda_s180119_tb GROUP BY card_id;\n",
      "((10392389, 1, 1, 0, 0), (10407668, 1, 1, 0, 0), (10412007, 1, 1, 0, 0), (10437459, 1, 1, 0, 1), (10566290, 1, 1, 0, 0), (10657858, 1, 1, 0, 1), (10682478, 1, 1, 0, 0), (10698900, 1, 1, 0, 0), (10723672, 1, 1, 0, 0), (10734486, 1, 1, 0, 1))\n",
      "305.84176898002625\n",
      "开始查表咯： soda_s180115_tb\n",
      "SELECT card_id, count(*) total_num, count(distinct(line)) line_num,     count(case when  week>=0 and week<=4 then 1 else null end) weekday_num,     count(case when  is_discount = 0 then 1 else null end) discount_num     FROM soda_s180115_tb GROUP BY card_id;\n",
      "((10485735, 1, 1, 1, 0), (10497413, 1, 1, 1, 0), (10502718, 1, 1, 1, 1), (10561534, 1, 1, 1, 1), (10607009, 1, 1, 1, 0), (10619440, 1, 1, 1, 0), (10650754, 1, 1, 1, 1), (10662825, 1, 1, 1, 0), (10710378, 1, 1, 1, 0), (10750068, 1, 1, 1, 0))\n",
      "289.4730453491211\n",
      "开始查表咯： soda_s180107_tb\n",
      "SELECT card_id, count(*) total_num, count(distinct(line)) line_num,     count(case when  week>=0 and week<=4 then 1 else null end) weekday_num,     count(case when  is_discount = 0 then 1 else null end) discount_num     FROM soda_s180107_tb GROUP BY card_id;\n",
      "((10455547, 1, 1, 1, 1), (10596284, 1, 1, 1, 0), (10820643, 1, 1, 1, 1), (10888616, 1, 1, 1, 1), (10918398, 1, 1, 1, 0), (10990844, 1, 1, 1, 0), (11024396, 1, 1, 1, 0), (11039632, 1, 1, 1, 1), (11042722, 1, 1, 1, 0), (11047937, 1, 1, 1, 0))\n",
      "144.8423843383789\n",
      "开始查表咯： soda_s180109_tb\n",
      "SELECT card_id, count(*) total_num, count(distinct(line)) line_num,     count(case when  week>=0 and week<=4 then 1 else null end) weekday_num,     count(case when  is_discount = 0 then 1 else null end) discount_num     FROM soda_s180109_tb GROUP BY card_id;\n",
      "((10130143, 1, 1, 1, 0), (10218430, 1, 1, 1, 0), (10375423, 1, 1, 1, 1), (10414527, 1, 1, 1, 0), (10487421, 1, 1, 1, 0), (10494214, 1, 1, 1, 0), (10530794, 1, 1, 1, 0), (10550815, 1, 1, 1, 0), (10580681, 1, 1, 1, 0), (10625569, 1, 1, 1, 0))\n",
      "348.30888628959656\n",
      "开始查表咯： soda_s180125_tb\n",
      "SELECT card_id, count(*) total_num, count(distinct(line)) line_num,     count(case when  week>=0 and week<=4 then 1 else null end) weekday_num,     count(case when  is_discount = 0 then 1 else null end) discount_num     FROM soda_s180125_tb GROUP BY card_id;\n",
      "((10185989, 1, 1, 1, 0), (10203590, 1, 1, 1, 1), (10398063, 1, 1, 1, 1), (10485857, 1, 1, 1, 0), (10497172, 1, 1, 1, 0), (10502128, 1, 1, 1, 1), (10590495, 1, 1, 1, 0), (10682246, 1, 1, 1, 1), (10714972, 1, 1, 1, 1), (10749674, 1, 1, 1, 0))\n",
      "229.14815974235535\n",
      "开始查表咯： soda_s180104_tb\n",
      "SELECT card_id, count(*) total_num, count(distinct(line)) line_num,     count(case when  week>=0 and week<=4 then 1 else null end) weekday_num,     count(case when  is_discount = 0 then 1 else null end) discount_num     FROM soda_s180104_tb GROUP BY card_id;\n"
     ]
    },
    {
     "name": "stdout",
     "output_type": "stream",
     "text": [
      "((10550076, 1, 1, 1, 0), (10581316, 1, 1, 1, 0), (10586337, 1, 1, 1, 0), (10633720, 1, 1, 1, 0), (10658389, 1, 1, 1, 0), (10707543, 1, 1, 1, 0), (10748387, 1, 1, 1, 0), (10766161, 1, 1, 1, 0), (10767456, 1, 1, 1, 0), (10845645, 1, 1, 1, 0))\n",
      "269.1358890533447\n",
      "开始查表咯： soda_s180128_tb\n",
      "SELECT card_id, count(*) total_num, count(distinct(line)) line_num,     count(case when  week>=0 and week<=4 then 1 else null end) weekday_num,     count(case when  is_discount = 0 then 1 else null end) discount_num     FROM soda_s180128_tb GROUP BY card_id;\n",
      "((10270376, 1, 1, 1, 0), (10428282, 1, 1, 1, 0), (10468827, 1, 1, 1, 1), (10617418, 1, 1, 1, 1), (10648744, 1, 1, 1, 1), (10666948, 1, 1, 1, 1), (10686285, 1, 1, 1, 0), (10724128, 1, 1, 1, 0), (10857922, 1, 1, 1, 1), (10880419, 1, 1, 1, 1))\n",
      "129.33808946609497\n",
      "开始查表咯： soda_s180117_tb\n",
      "SELECT card_id, count(*) total_num, count(distinct(line)) line_num,     count(case when  week>=0 and week<=4 then 1 else null end) weekday_num,     count(case when  is_discount = 0 then 1 else null end) discount_num     FROM soda_s180117_tb GROUP BY card_id;\n",
      "((10406207, 1, 1, 1, 1), (10564940, 1, 1, 1, 0), (10582770, 1, 1, 1, 1), (10699460, 1, 1, 1, 0), (10751233, 1, 1, 1, 1), (10760527, 1, 1, 1, 0), (10796040, 1, 1, 1, 0), (10802242, 1, 1, 1, 0), (10888939, 1, 1, 1, 0), (10892121, 1, 1, 1, 1))\n",
      "290.9431412220001\n",
      "开始查表咯： soda_s180114_tb\n",
      "SELECT card_id, count(*) total_num, count(distinct(line)) line_num,     count(case when  week>=0 and week<=4 then 1 else null end) weekday_num,     count(case when  is_discount = 0 then 1 else null end) discount_num     FROM soda_s180114_tb GROUP BY card_id;\n",
      "((10226254, 1, 1, 1, 0), (10367266, 1, 1, 1, 0), (10428687, 1, 1, 1, 0), (10456342, 1, 1, 1, 1), (10539926, 1, 1, 1, 1), (10558205, 1, 1, 1, 0), (10651270, 1, 1, 1, 1), (10689839, 1, 1, 1, 1), (10763748, 1, 1, 1, 0), (10778901, 1, 1, 1, 0))\n",
      "170.321298122406\n",
      "开始查表咯： soda_s180111_tb\n",
      "SELECT card_id, count(*) total_num, count(distinct(line)) line_num,     count(case when  week>=0 and week<=4 then 1 else null end) weekday_num,     count(case when  is_discount = 0 then 1 else null end) discount_num     FROM soda_s180111_tb GROUP BY card_id;\n",
      "((10209797, 1, 1, 1, 0), (10571185, 1, 1, 1, 0), (10619452, 1, 1, 1, 0), (10622790, 1, 1, 1, 0), (10689381, 1, 1, 1, 0), (10690804, 1, 1, 1, 0), (10701904, 1, 1, 1, 0), (10707868, 1, 1, 1, 0), (10721486, 1, 1, 1, 0), (10722743, 1, 1, 1, 0))\n",
      "288.57711696624756\n",
      "开始查表咯： soda_s180102_tb\n",
      "SELECT card_id, count(*) total_num, count(distinct(line)) line_num,     count(case when  week>=0 and week<=4 then 1 else null end) weekday_num,     count(case when  is_discount = 0 then 1 else null end) discount_num     FROM soda_s180102_tb GROUP BY card_id;\n",
      "((10711470, 1, 1, 1, 0), (10780753, 1, 1, 1, 0), (10783583, 1, 1, 1, 0), (10784891, 1, 1, 1, 0), (10839326, 1, 1, 1, 0), (10859770, 1, 1, 1, 0), (10862911, 1, 1, 1, 0), (10878363, 1, 1, 1, 0), (10894933, 1, 1, 1, 0), (10934754, 1, 1, 1, 0))\n",
      "276.15524673461914\n",
      "开始查表咯： soda_s180113_tb\n",
      "SELECT card_id, count(*) total_num, count(distinct(line)) line_num,     count(case when  week>=0 and week<=4 then 1 else null end) weekday_num,     count(case when  is_discount = 0 then 1 else null end) discount_num     FROM soda_s180113_tb GROUP BY card_id;\n",
      "((10370801, 1, 1, 0, 0), (10458735, 1, 1, 0, 1), (10508787, 1, 1, 0, 0), (10612746, 1, 1, 0, 1), (10640152, 1, 1, 0, 0), (10754072, 1, 1, 0, 1), (10792809, 1, 1, 0, 1), (10801032, 1, 1, 0, 0), (10887598, 1, 1, 0, 1), (10897960, 1, 1, 0, 0))\n",
      "192.25153946876526\n",
      "开始查表咯： soda_s180120_tb\n",
      "SELECT card_id, count(*) total_num, count(distinct(line)) line_num,     count(case when  week>=0 and week<=4 then 1 else null end) weekday_num,     count(case when  is_discount = 0 then 1 else null end) discount_num     FROM soda_s180120_tb GROUP BY card_id;\n",
      "((10334311, 1, 1, 0, 1), (10663904, 1, 1, 0, 1), (10733244, 1, 1, 0, 0), (10763250, 1, 1, 0, 1), (10794792, 1, 1, 0, 1), (10960494, 1, 1, 0, 1), (10981226, 1, 1, 0, 0), (11015271, 1, 1, 0, 0), (11018539, 1, 1, 0, 0), (11027446, 1, 1, 0, 1))\n",
      "182.8054814338684\n",
      "开始查表咯： soda_s180103_tb\n",
      "SELECT card_id, count(*) total_num, count(distinct(line)) line_num,     count(case when  week>=0 and week<=4 then 1 else null end) weekday_num,     count(case when  is_discount = 0 then 1 else null end) discount_num     FROM soda_s180103_tb GROUP BY card_id;\n"
     ]
    },
    {
     "ename": "KeyboardInterrupt",
     "evalue": "",
     "output_type": "error",
     "traceback": [
      "\u001b[0;31m---------------------------------------------------------------------------\u001b[0m",
      "\u001b[0;31mKeyboardInterrupt\u001b[0m                         Traceback (most recent call last)",
      "\u001b[0;32m<ipython-input-22-95bf124f1555>\u001b[0m in \u001b[0;36m<module>\u001b[0;34m()\u001b[0m\n\u001b[1;32m      9\u001b[0m     \u001b[0mprint\u001b[0m\u001b[0;34m(\u001b[0m\u001b[0msql\u001b[0m\u001b[0;34m)\u001b[0m\u001b[0;34m\u001b[0m\u001b[0m\n\u001b[1;32m     10\u001b[0m \u001b[0;34m\u001b[0m\u001b[0m\n\u001b[0;32m---> 11\u001b[0;31m     \u001b[0mresults\u001b[0m \u001b[0;34m=\u001b[0m \u001b[0mquery\u001b[0m\u001b[0;34m(\u001b[0m\u001b[0mcursor\u001b[0m\u001b[0;34m,\u001b[0m\u001b[0msql\u001b[0m\u001b[0;34m,\u001b[0m \u001b[0margs\u001b[0m\u001b[0;34m=\u001b[0m\u001b[0;34m(\u001b[0m\u001b[0;34m)\u001b[0m\u001b[0;34m)\u001b[0m\u001b[0;34m\u001b[0m\u001b[0m\n\u001b[0m\u001b[1;32m     12\u001b[0m     \u001b[0mprint\u001b[0m\u001b[0;34m(\u001b[0m\u001b[0mresults\u001b[0m\u001b[0;34m[\u001b[0m\u001b[0;34m:\u001b[0m\u001b[0;36m10\u001b[0m\u001b[0;34m]\u001b[0m\u001b[0;34m)\u001b[0m\u001b[0;34m\u001b[0m\u001b[0m\n\u001b[1;32m     13\u001b[0m \u001b[0;34m\u001b[0m\u001b[0m\n",
      "\u001b[0;32m<ipython-input-6-698ef0589be8>\u001b[0m in \u001b[0;36mquery\u001b[0;34m(cur, sql, args)\u001b[0m\n\u001b[1;32m      1\u001b[0m \u001b[0;32mdef\u001b[0m \u001b[0mquery\u001b[0m\u001b[0;34m(\u001b[0m\u001b[0mcur\u001b[0m\u001b[0;34m,\u001b[0m \u001b[0msql\u001b[0m\u001b[0;34m,\u001b[0m \u001b[0margs\u001b[0m\u001b[0;34m)\u001b[0m\u001b[0;34m:\u001b[0m\u001b[0;34m\u001b[0m\u001b[0m\n\u001b[0;32m----> 2\u001b[0;31m     \u001b[0mcur\u001b[0m\u001b[0;34m.\u001b[0m\u001b[0mexecute\u001b[0m\u001b[0;34m(\u001b[0m\u001b[0msql\u001b[0m\u001b[0;34m,\u001b[0m \u001b[0margs\u001b[0m\u001b[0;34m)\u001b[0m\u001b[0;34m\u001b[0m\u001b[0m\n\u001b[0m\u001b[1;32m      3\u001b[0m     \u001b[0mresults\u001b[0m \u001b[0;34m=\u001b[0m \u001b[0mcur\u001b[0m\u001b[0;34m.\u001b[0m\u001b[0mfetchall\u001b[0m\u001b[0;34m(\u001b[0m\u001b[0;34m)\u001b[0m\u001b[0;34m\u001b[0m\u001b[0m\n\u001b[1;32m      4\u001b[0m     \u001b[0;32mreturn\u001b[0m \u001b[0mresults\u001b[0m\u001b[0;34m\u001b[0m\u001b[0m\n",
      "\u001b[0;32m/usr/local/anaconda3/envs/tf-gpu-1.10/lib/python3.6/site-packages/pymysql/cursors.py\u001b[0m in \u001b[0;36mexecute\u001b[0;34m(self, query, args)\u001b[0m\n\u001b[1;32m    168\u001b[0m         \u001b[0mquery\u001b[0m \u001b[0;34m=\u001b[0m \u001b[0mself\u001b[0m\u001b[0;34m.\u001b[0m\u001b[0mmogrify\u001b[0m\u001b[0;34m(\u001b[0m\u001b[0mquery\u001b[0m\u001b[0;34m,\u001b[0m \u001b[0margs\u001b[0m\u001b[0;34m)\u001b[0m\u001b[0;34m\u001b[0m\u001b[0m\n\u001b[1;32m    169\u001b[0m \u001b[0;34m\u001b[0m\u001b[0m\n\u001b[0;32m--> 170\u001b[0;31m         \u001b[0mresult\u001b[0m \u001b[0;34m=\u001b[0m \u001b[0mself\u001b[0m\u001b[0;34m.\u001b[0m\u001b[0m_query\u001b[0m\u001b[0;34m(\u001b[0m\u001b[0mquery\u001b[0m\u001b[0;34m)\u001b[0m\u001b[0;34m\u001b[0m\u001b[0m\n\u001b[0m\u001b[1;32m    171\u001b[0m         \u001b[0mself\u001b[0m\u001b[0;34m.\u001b[0m\u001b[0m_executed\u001b[0m \u001b[0;34m=\u001b[0m \u001b[0mquery\u001b[0m\u001b[0;34m\u001b[0m\u001b[0m\n\u001b[1;32m    172\u001b[0m         \u001b[0;32mreturn\u001b[0m \u001b[0mresult\u001b[0m\u001b[0;34m\u001b[0m\u001b[0m\n",
      "\u001b[0;32m/usr/local/anaconda3/envs/tf-gpu-1.10/lib/python3.6/site-packages/pymysql/cursors.py\u001b[0m in \u001b[0;36m_query\u001b[0;34m(self, q)\u001b[0m\n\u001b[1;32m    326\u001b[0m         \u001b[0mself\u001b[0m\u001b[0;34m.\u001b[0m\u001b[0m_last_executed\u001b[0m \u001b[0;34m=\u001b[0m \u001b[0mq\u001b[0m\u001b[0;34m\u001b[0m\u001b[0m\n\u001b[1;32m    327\u001b[0m         \u001b[0mself\u001b[0m\u001b[0;34m.\u001b[0m\u001b[0m_clear_result\u001b[0m\u001b[0;34m(\u001b[0m\u001b[0;34m)\u001b[0m\u001b[0;34m\u001b[0m\u001b[0m\n\u001b[0;32m--> 328\u001b[0;31m         \u001b[0mconn\u001b[0m\u001b[0;34m.\u001b[0m\u001b[0mquery\u001b[0m\u001b[0;34m(\u001b[0m\u001b[0mq\u001b[0m\u001b[0;34m)\u001b[0m\u001b[0;34m\u001b[0m\u001b[0m\n\u001b[0m\u001b[1;32m    329\u001b[0m         \u001b[0mself\u001b[0m\u001b[0;34m.\u001b[0m\u001b[0m_do_get_result\u001b[0m\u001b[0;34m(\u001b[0m\u001b[0;34m)\u001b[0m\u001b[0;34m\u001b[0m\u001b[0m\n\u001b[1;32m    330\u001b[0m         \u001b[0;32mreturn\u001b[0m \u001b[0mself\u001b[0m\u001b[0;34m.\u001b[0m\u001b[0mrowcount\u001b[0m\u001b[0;34m\u001b[0m\u001b[0m\n",
      "\u001b[0;32m/usr/local/anaconda3/envs/tf-gpu-1.10/lib/python3.6/site-packages/pymysql/connections.py\u001b[0m in \u001b[0;36mquery\u001b[0;34m(self, sql, unbuffered)\u001b[0m\n\u001b[1;32m    514\u001b[0m                 \u001b[0msql\u001b[0m \u001b[0;34m=\u001b[0m \u001b[0msql\u001b[0m\u001b[0;34m.\u001b[0m\u001b[0mencode\u001b[0m\u001b[0;34m(\u001b[0m\u001b[0mself\u001b[0m\u001b[0;34m.\u001b[0m\u001b[0mencoding\u001b[0m\u001b[0;34m,\u001b[0m \u001b[0;34m'surrogateescape'\u001b[0m\u001b[0;34m)\u001b[0m\u001b[0;34m\u001b[0m\u001b[0m\n\u001b[1;32m    515\u001b[0m         \u001b[0mself\u001b[0m\u001b[0;34m.\u001b[0m\u001b[0m_execute_command\u001b[0m\u001b[0;34m(\u001b[0m\u001b[0mCOMMAND\u001b[0m\u001b[0;34m.\u001b[0m\u001b[0mCOM_QUERY\u001b[0m\u001b[0;34m,\u001b[0m \u001b[0msql\u001b[0m\u001b[0;34m)\u001b[0m\u001b[0;34m\u001b[0m\u001b[0m\n\u001b[0;32m--> 516\u001b[0;31m         \u001b[0mself\u001b[0m\u001b[0;34m.\u001b[0m\u001b[0m_affected_rows\u001b[0m \u001b[0;34m=\u001b[0m \u001b[0mself\u001b[0m\u001b[0;34m.\u001b[0m\u001b[0m_read_query_result\u001b[0m\u001b[0;34m(\u001b[0m\u001b[0munbuffered\u001b[0m\u001b[0;34m=\u001b[0m\u001b[0munbuffered\u001b[0m\u001b[0;34m)\u001b[0m\u001b[0;34m\u001b[0m\u001b[0m\n\u001b[0m\u001b[1;32m    517\u001b[0m         \u001b[0;32mreturn\u001b[0m \u001b[0mself\u001b[0m\u001b[0;34m.\u001b[0m\u001b[0m_affected_rows\u001b[0m\u001b[0;34m\u001b[0m\u001b[0m\n\u001b[1;32m    518\u001b[0m \u001b[0;34m\u001b[0m\u001b[0m\n",
      "\u001b[0;32m/usr/local/anaconda3/envs/tf-gpu-1.10/lib/python3.6/site-packages/pymysql/connections.py\u001b[0m in \u001b[0;36m_read_query_result\u001b[0;34m(self, unbuffered)\u001b[0m\n\u001b[1;32m    725\u001b[0m         \u001b[0;32melse\u001b[0m\u001b[0;34m:\u001b[0m\u001b[0;34m\u001b[0m\u001b[0m\n\u001b[1;32m    726\u001b[0m             \u001b[0mresult\u001b[0m \u001b[0;34m=\u001b[0m \u001b[0mMySQLResult\u001b[0m\u001b[0;34m(\u001b[0m\u001b[0mself\u001b[0m\u001b[0;34m)\u001b[0m\u001b[0;34m\u001b[0m\u001b[0m\n\u001b[0;32m--> 727\u001b[0;31m             \u001b[0mresult\u001b[0m\u001b[0;34m.\u001b[0m\u001b[0mread\u001b[0m\u001b[0;34m(\u001b[0m\u001b[0;34m)\u001b[0m\u001b[0;34m\u001b[0m\u001b[0m\n\u001b[0m\u001b[1;32m    728\u001b[0m         \u001b[0mself\u001b[0m\u001b[0;34m.\u001b[0m\u001b[0m_result\u001b[0m \u001b[0;34m=\u001b[0m \u001b[0mresult\u001b[0m\u001b[0;34m\u001b[0m\u001b[0m\n\u001b[1;32m    729\u001b[0m         \u001b[0;32mif\u001b[0m \u001b[0mresult\u001b[0m\u001b[0;34m.\u001b[0m\u001b[0mserver_status\u001b[0m \u001b[0;32mis\u001b[0m \u001b[0;32mnot\u001b[0m \u001b[0;32mNone\u001b[0m\u001b[0;34m:\u001b[0m\u001b[0;34m\u001b[0m\u001b[0m\n",
      "\u001b[0;32m/usr/local/anaconda3/envs/tf-gpu-1.10/lib/python3.6/site-packages/pymysql/connections.py\u001b[0m in \u001b[0;36mread\u001b[0;34m(self)\u001b[0m\n\u001b[1;32m   1071\u001b[0m                 \u001b[0mself\u001b[0m\u001b[0;34m.\u001b[0m\u001b[0m_read_load_local_packet\u001b[0m\u001b[0;34m(\u001b[0m\u001b[0mfirst_packet\u001b[0m\u001b[0;34m)\u001b[0m\u001b[0;34m\u001b[0m\u001b[0m\n\u001b[1;32m   1072\u001b[0m             \u001b[0;32melse\u001b[0m\u001b[0;34m:\u001b[0m\u001b[0;34m\u001b[0m\u001b[0m\n\u001b[0;32m-> 1073\u001b[0;31m                 \u001b[0mself\u001b[0m\u001b[0;34m.\u001b[0m\u001b[0m_read_result_packet\u001b[0m\u001b[0;34m(\u001b[0m\u001b[0mfirst_packet\u001b[0m\u001b[0;34m)\u001b[0m\u001b[0;34m\u001b[0m\u001b[0m\n\u001b[0m\u001b[1;32m   1074\u001b[0m         \u001b[0;32mfinally\u001b[0m\u001b[0;34m:\u001b[0m\u001b[0;34m\u001b[0m\u001b[0m\n\u001b[1;32m   1075\u001b[0m             \u001b[0mself\u001b[0m\u001b[0;34m.\u001b[0m\u001b[0mconnection\u001b[0m \u001b[0;34m=\u001b[0m \u001b[0;32mNone\u001b[0m\u001b[0;34m\u001b[0m\u001b[0m\n",
      "\u001b[0;32m/usr/local/anaconda3/envs/tf-gpu-1.10/lib/python3.6/site-packages/pymysql/connections.py\u001b[0m in \u001b[0;36m_read_result_packet\u001b[0;34m(self, first_packet)\u001b[0m\n\u001b[1;32m   1141\u001b[0m         \u001b[0mself\u001b[0m\u001b[0;34m.\u001b[0m\u001b[0mfield_count\u001b[0m \u001b[0;34m=\u001b[0m \u001b[0mfirst_packet\u001b[0m\u001b[0;34m.\u001b[0m\u001b[0mread_length_encoded_integer\u001b[0m\u001b[0;34m(\u001b[0m\u001b[0;34m)\u001b[0m\u001b[0;34m\u001b[0m\u001b[0m\n\u001b[1;32m   1142\u001b[0m         \u001b[0mself\u001b[0m\u001b[0;34m.\u001b[0m\u001b[0m_get_descriptions\u001b[0m\u001b[0;34m(\u001b[0m\u001b[0;34m)\u001b[0m\u001b[0;34m\u001b[0m\u001b[0m\n\u001b[0;32m-> 1143\u001b[0;31m         \u001b[0mself\u001b[0m\u001b[0;34m.\u001b[0m\u001b[0m_read_rowdata_packet\u001b[0m\u001b[0;34m(\u001b[0m\u001b[0;34m)\u001b[0m\u001b[0;34m\u001b[0m\u001b[0m\n\u001b[0m\u001b[1;32m   1144\u001b[0m \u001b[0;34m\u001b[0m\u001b[0m\n\u001b[1;32m   1145\u001b[0m     \u001b[0;32mdef\u001b[0m \u001b[0m_read_rowdata_packet_unbuffered\u001b[0m\u001b[0;34m(\u001b[0m\u001b[0mself\u001b[0m\u001b[0;34m)\u001b[0m\u001b[0;34m:\u001b[0m\u001b[0;34m\u001b[0m\u001b[0m\n",
      "\u001b[0;32m/usr/local/anaconda3/envs/tf-gpu-1.10/lib/python3.6/site-packages/pymysql/connections.py\u001b[0m in \u001b[0;36m_read_rowdata_packet\u001b[0;34m(self)\u001b[0m\n\u001b[1;32m   1175\u001b[0m         \u001b[0mrows\u001b[0m \u001b[0;34m=\u001b[0m \u001b[0;34m[\u001b[0m\u001b[0;34m]\u001b[0m\u001b[0;34m\u001b[0m\u001b[0m\n\u001b[1;32m   1176\u001b[0m         \u001b[0;32mwhile\u001b[0m \u001b[0;32mTrue\u001b[0m\u001b[0;34m:\u001b[0m\u001b[0;34m\u001b[0m\u001b[0m\n\u001b[0;32m-> 1177\u001b[0;31m             \u001b[0mpacket\u001b[0m \u001b[0;34m=\u001b[0m \u001b[0mself\u001b[0m\u001b[0;34m.\u001b[0m\u001b[0mconnection\u001b[0m\u001b[0;34m.\u001b[0m\u001b[0m_read_packet\u001b[0m\u001b[0;34m(\u001b[0m\u001b[0;34m)\u001b[0m\u001b[0;34m\u001b[0m\u001b[0m\n\u001b[0m\u001b[1;32m   1178\u001b[0m             \u001b[0;32mif\u001b[0m \u001b[0mself\u001b[0m\u001b[0;34m.\u001b[0m\u001b[0m_check_packet_is_eof\u001b[0m\u001b[0;34m(\u001b[0m\u001b[0mpacket\u001b[0m\u001b[0;34m)\u001b[0m\u001b[0;34m:\u001b[0m\u001b[0;34m\u001b[0m\u001b[0m\n\u001b[1;32m   1179\u001b[0m                 \u001b[0mself\u001b[0m\u001b[0;34m.\u001b[0m\u001b[0mconnection\u001b[0m \u001b[0;34m=\u001b[0m \u001b[0;32mNone\u001b[0m  \u001b[0;31m# release reference to kill cyclic reference.\u001b[0m\u001b[0;34m\u001b[0m\u001b[0m\n",
      "\u001b[0;32m/usr/local/anaconda3/envs/tf-gpu-1.10/lib/python3.6/site-packages/pymysql/connections.py\u001b[0m in \u001b[0;36m_read_packet\u001b[0;34m(self, packet_type)\u001b[0m\n\u001b[1;32m    671\u001b[0m             \u001b[0mself\u001b[0m\u001b[0;34m.\u001b[0m\u001b[0m_next_seq_id\u001b[0m \u001b[0;34m=\u001b[0m \u001b[0;34m(\u001b[0m\u001b[0mself\u001b[0m\u001b[0;34m.\u001b[0m\u001b[0m_next_seq_id\u001b[0m \u001b[0;34m+\u001b[0m \u001b[0;36m1\u001b[0m\u001b[0;34m)\u001b[0m \u001b[0;34m%\u001b[0m \u001b[0;36m256\u001b[0m\u001b[0;34m\u001b[0m\u001b[0m\n\u001b[1;32m    672\u001b[0m \u001b[0;34m\u001b[0m\u001b[0m\n\u001b[0;32m--> 673\u001b[0;31m             \u001b[0mrecv_data\u001b[0m \u001b[0;34m=\u001b[0m \u001b[0mself\u001b[0m\u001b[0;34m.\u001b[0m\u001b[0m_read_bytes\u001b[0m\u001b[0;34m(\u001b[0m\u001b[0mbytes_to_read\u001b[0m\u001b[0;34m)\u001b[0m\u001b[0;34m\u001b[0m\u001b[0m\n\u001b[0m\u001b[1;32m    674\u001b[0m             \u001b[0;32mif\u001b[0m \u001b[0mDEBUG\u001b[0m\u001b[0;34m:\u001b[0m \u001b[0mdump_packet\u001b[0m\u001b[0;34m(\u001b[0m\u001b[0mrecv_data\u001b[0m\u001b[0;34m)\u001b[0m\u001b[0;34m\u001b[0m\u001b[0m\n\u001b[1;32m    675\u001b[0m             \u001b[0mbuff\u001b[0m \u001b[0;34m+=\u001b[0m \u001b[0mrecv_data\u001b[0m\u001b[0;34m\u001b[0m\u001b[0m\n",
      "\u001b[0;32m/usr/local/anaconda3/envs/tf-gpu-1.10/lib/python3.6/site-packages/pymysql/connections.py\u001b[0m in \u001b[0;36m_read_bytes\u001b[0;34m(self, num_bytes)\u001b[0m\n\u001b[1;32m    688\u001b[0m         \u001b[0;32mwhile\u001b[0m \u001b[0;32mTrue\u001b[0m\u001b[0;34m:\u001b[0m\u001b[0;34m\u001b[0m\u001b[0m\n\u001b[1;32m    689\u001b[0m             \u001b[0;32mtry\u001b[0m\u001b[0;34m:\u001b[0m\u001b[0;34m\u001b[0m\u001b[0m\n\u001b[0;32m--> 690\u001b[0;31m                 \u001b[0mdata\u001b[0m \u001b[0;34m=\u001b[0m \u001b[0mself\u001b[0m\u001b[0;34m.\u001b[0m\u001b[0m_rfile\u001b[0m\u001b[0;34m.\u001b[0m\u001b[0mread\u001b[0m\u001b[0;34m(\u001b[0m\u001b[0mnum_bytes\u001b[0m\u001b[0;34m)\u001b[0m\u001b[0;34m\u001b[0m\u001b[0m\n\u001b[0m\u001b[1;32m    691\u001b[0m                 \u001b[0;32mbreak\u001b[0m\u001b[0;34m\u001b[0m\u001b[0m\n\u001b[1;32m    692\u001b[0m             \u001b[0;32mexcept\u001b[0m \u001b[0;34m(\u001b[0m\u001b[0mIOError\u001b[0m\u001b[0;34m,\u001b[0m \u001b[0mOSError\u001b[0m\u001b[0;34m)\u001b[0m \u001b[0;32mas\u001b[0m \u001b[0me\u001b[0m\u001b[0;34m:\u001b[0m\u001b[0;34m\u001b[0m\u001b[0m\n",
      "\u001b[0;32m/usr/local/anaconda3/envs/tf-gpu-1.10/lib/python3.6/socket.py\u001b[0m in \u001b[0;36mreadinto\u001b[0;34m(self, b)\u001b[0m\n\u001b[1;32m    584\u001b[0m         \u001b[0;32mwhile\u001b[0m \u001b[0;32mTrue\u001b[0m\u001b[0;34m:\u001b[0m\u001b[0;34m\u001b[0m\u001b[0m\n\u001b[1;32m    585\u001b[0m             \u001b[0;32mtry\u001b[0m\u001b[0;34m:\u001b[0m\u001b[0;34m\u001b[0m\u001b[0m\n\u001b[0;32m--> 586\u001b[0;31m                 \u001b[0;32mreturn\u001b[0m \u001b[0mself\u001b[0m\u001b[0;34m.\u001b[0m\u001b[0m_sock\u001b[0m\u001b[0;34m.\u001b[0m\u001b[0mrecv_into\u001b[0m\u001b[0;34m(\u001b[0m\u001b[0mb\u001b[0m\u001b[0;34m)\u001b[0m\u001b[0;34m\u001b[0m\u001b[0m\n\u001b[0m\u001b[1;32m    587\u001b[0m             \u001b[0;32mexcept\u001b[0m \u001b[0mtimeout\u001b[0m\u001b[0;34m:\u001b[0m\u001b[0;34m\u001b[0m\u001b[0m\n\u001b[1;32m    588\u001b[0m                 \u001b[0mself\u001b[0m\u001b[0;34m.\u001b[0m\u001b[0m_timeout_occurred\u001b[0m \u001b[0;34m=\u001b[0m \u001b[0;32mTrue\u001b[0m\u001b[0;34m\u001b[0m\u001b[0m\n",
      "\u001b[0;31mKeyboardInterrupt\u001b[0m: "
     ]
    }
   ],
   "source": [
    "for csv_path in csv_list:\n",
    "    start_time = time.time()\n",
    "    #print(csv_path)\n",
    "    csv_tb_name = 'soda_' + str(os.path.basename(csv_path).split('.')[0]) + '_tb'\n",
    "    print('开始查表咯：', csv_tb_name)\n",
    "    \n",
    "    sql =  'SELECT card_id, count(*) total_num, count(distinct(line)) line_num, \\\n",
    "    count(case when  week>=0 and week<=4 then 1 else null end) weekday_num, \\\n",
    "    count(case when  is_discount = 0 then 1 else null end) discount_num \\\n",
    "    FROM '+csv_tb_name+' GROUP BY card_id;'\n",
    "    \n",
    "    print(sql)\n",
    "        \n",
    "    results = query(cursor,sql, args=())\n",
    "    print(results[:10])\n",
    "    \n",
    "    end_time = time.time()\n",
    "    print(end_time - start_time)"
   ]
  },
  {
   "cell_type": "code",
   "execution_count": null,
   "metadata": {},
   "outputs": [],
   "source": []
  }
 ],
 "metadata": {
  "kernelspec": {
   "display_name": "Python 3",
   "language": "python",
   "name": "python3"
  },
  "language_info": {
   "codemirror_mode": {
    "name": "ipython",
    "version": 3
   },
   "file_extension": ".py",
   "mimetype": "text/x-python",
   "name": "python",
   "nbconvert_exporter": "python",
   "pygments_lexer": "ipython3",
   "version": "3.6.5"
  }
 },
 "nbformat": 4,
 "nbformat_minor": 2
}
