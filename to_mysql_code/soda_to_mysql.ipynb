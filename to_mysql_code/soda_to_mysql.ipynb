{
 "cells": [
  {
   "cell_type": "code",
   "execution_count": null,
   "metadata": {},
   "outputs": [],
   "source": [
    "import pandas as pd\n",
    "import numpy as np\n",
    "from datetime import datetime\n",
    "from sqlalchemy import create_engine\n",
    "import pymysql\n",
    "pymysql.install_as_MySQLdb()\n",
    "import os\n",
    "import sys, urllib, json"
   ]
  },
  {
   "cell_type": "code",
   "execution_count": null,
   "metadata": {},
   "outputs": [],
   "source": [
    "class soda_data_util:\n",
    "    def __init__(self, file_path, encoding='utf-8'):\n",
    "        print('========================================开始读取数据========================================')\n",
    "        # 读取csv表格\n",
    "        self.csv_data = pd.read_csv(file_path, \n",
    "                        encoding = encoding, \n",
    "                        header=None, \n",
    "                        names=['card_id', 'date', 'time', 'line', 'transport', 'amount', 'is_discount'])\n",
    "        print('==================================数据读取完毕，数据的shape为:'+str(self.csv_data.shape)+\"==================================\")"
   ]
  },
  {
   "cell_type": "code",
   "execution_count": null,
   "metadata": {},
   "outputs": [],
   "source": [
    "host = '127.0.0.1'\n",
    "port = 3306\n",
    "db = 'soda_data_schema'\n",
    "user = 'root'\n",
    "password = '19940301'\n",
    "engine = create_engine(str(r\"mysql+mysqldb://%s:\" + '%s' + \"@%s/%s\") % (user, password, host, db))\n",
    "transport_dict = {'P+R停车场':0, '公交':1, '出租':2, '地铁':3, '轮渡':4}\n",
    "is_discount = {'优惠':0, '非优惠':1, '无':2}"
   ]
  },
  {
   "cell_type": "code",
   "execution_count": null,
   "metadata": {},
   "outputs": [],
   "source": [
    "csv_list = []\n",
    "def gci(filepath):\n",
    "#遍历filepath下所有文件，包括子目录\n",
    "    files = os.listdir(filepath)\n",
    "    for fi in files:\n",
    "        fi_d = os.path.join(filepath,fi)\n",
    "        if os.path.isdir(fi_d):\n",
    "            gci(fi_d)\n",
    "        else:\n",
    "            file_path = os.path.join(filepath,fi_d)\n",
    "            if file_path.endswith('csv'):\n",
    "                #print(file_path)\n",
    "                csv_list.append(file_path)\n",
    "    return csv_list\n",
    "csv_list = gci('/usr/soda_data_set/gonggongjiaotongkagufenyouxiangongsi')\n",
    "print(len(csv_list))"
   ]
  },
  {
   "cell_type": "code",
   "execution_count": null,
   "metadata": {},
   "outputs": [],
   "source": [
    "import time\n",
    "for i in range(0,1):\n",
    "    start_time = time.time()\n",
    "    print('这一次的第一个文件序号：' + str(i))\n",
    "    df = soda_data_util(file_path= csv_list[i], encoding= 'GB2312').csv_data\n",
    "    for j in range(i*3 + 1, i*3 + 3):\n",
    "        print('这个文件序号拼接的文件是： ' + str(j))\n",
    "        df = df.append(soda_data_util(file_path= csv_list[j], encoding= 'GB2312').csv_data)\n",
    "    #print(df)\n",
    "    df['date_time'] = df['date'] + ' ' + df['time']\n",
    "    df['transport'] = df['transport'].apply(lambda x: transport_dict[x])\n",
    "    df['is_discount'] = df['is_discount'].apply(lambda x: is_discount[x])\n",
    "    df['week'] = df['date_time'].apply(lambda x: datetime.strptime(x,'%Y-%m-%d %H:%M:%S').strftime(\"%w\"))\n",
    "    df = df.drop(['date', 'time'], axis=1)\n",
    "    print(df.shape)\n",
    "    print(df.head(10))\n",
    "    end_time = time.time()\n",
    "    print(end_time - start_time)\n",
    "    df.to_sql('yikatong_tb', con=engine, if_exists='append', index=False)\n",
    "    end_time = time.time()\n",
    "    print(end_time - start_time)"
   ]
  },
  {
   "cell_type": "code",
   "execution_count": null,
   "metadata": {},
   "outputs": [],
   "source": [
    "import time\n",
    "for csv_path in csv_list[0:1]:\n",
    "    start_time = time.time()\n",
    "    print(csv_path)\n",
    "    df = soda_data_util(file_path= csv_path, encoding= 'GB2312').csv_data\n",
    "    #print(df)\n",
    "    df['date_time'] = df['date'] + ' ' + df['time']\n",
    "    df['transport'] = df['transport'].apply(lambda x: transport_dict[x])\n",
    "    df['is_discount'] = df['is_discount'].apply(lambda x: is_discount[x])\n",
    "    df['week'] = df['date_time'].apply(lambda x: datetime.strptime(x,'%Y-%m-%d %H:%M:%S').strftime(\"%w\"))\n",
    "    df = df.drop(['date', 'time'], axis=1)\n",
    "    print(df.head(10))\n",
    "    df.to_sql('yikatong_tb', con=engine, if_exists='append', index=False)\n",
    "    end_time = time.time()\n",
    "    print(end_time - start_time)"
   ]
  },
  {
   "cell_type": "code",
   "execution_count": null,
   "metadata": {},
   "outputs": [],
   "source": []
  }
 ],
 "metadata": {
  "kernelspec": {
   "display_name": "Python 3",
   "language": "python",
   "name": "python3"
  },
  "language_info": {
   "codemirror_mode": {
    "name": "ipython",
    "version": 3
   },
   "file_extension": ".py",
   "mimetype": "text/x-python",
   "name": "python",
   "nbconvert_exporter": "python",
   "pygments_lexer": "ipython3",
   "version": "3.6.5"
  }
 },
 "nbformat": 4,
 "nbformat_minor": 2
}
