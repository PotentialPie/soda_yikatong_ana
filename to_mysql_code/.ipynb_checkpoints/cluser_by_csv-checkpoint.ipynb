{
 "cells": [
  {
   "cell_type": "code",
   "execution_count": 1,
   "metadata": {},
   "outputs": [],
   "source": [
    "import pandas as pd\n",
    "import numpy as np\n",
    "from datetime import datetime\n",
    "from sqlalchemy import create_engine\n",
    "import pymysql\n",
    "pymysql.install_as_MySQLdb()\n",
    "import os\n",
    "import sys, urllib, json\n",
    "import time"
   ]
  },
  {
   "cell_type": "code",
   "execution_count": 2,
   "metadata": {},
   "outputs": [],
   "source": [
    "class soda_data_util:\n",
    "    def __init__(self, file_path, encoding='utf-8'):\n",
    "        print('========================================开始读取数据========================================')\n",
    "        # 读取csv表格\n",
    "        self.csv_data = pd.read_csv(file_path, \n",
    "                        encoding = encoding, \n",
    "                        header=None, \n",
    "                        names=['card_id', 'date', 'time', 'line', 'transport', 'amount', 'is_discount'])\n",
    "        print('==================================数据读取完毕，数据的shape为:'+str(self.csv_data.shape)+\"==================================\")"
   ]
  },
  {
   "cell_type": "code",
   "execution_count": 3,
   "metadata": {},
   "outputs": [],
   "source": [
    "host = '127.0.0.1'\n",
    "port = 3306\n",
    "db = 'soda_data_repo'\n",
    "user = 'root'\n",
    "password = '19940301'\n",
    "engine = create_engine(str(r\"mysql+mysqldb://%s:\" + '%s' + \"@%s/%s\") % (user, password, host, db))\n",
    "transport_dict = {'P+R停车场':0, '公交':1, '出租':2, '地铁':3, '轮渡':4}\n",
    "is_discount = {'优惠':0, '非优惠':1, '无':2}"
   ]
  },
  {
   "cell_type": "code",
   "execution_count": 5,
   "metadata": {},
   "outputs": [
    {
     "name": "stdout",
     "output_type": "stream",
     "text": [
      "31\n",
      "['/usr/soda_data_set/data/filtered-data/18/1803/s180301.csv', '/usr/soda_data_set/data/filtered-data/18/1803/s180302.csv', '/usr/soda_data_set/data/filtered-data/18/1803/s180303.csv', '/usr/soda_data_set/data/filtered-data/18/1803/s180304.csv', '/usr/soda_data_set/data/filtered-data/18/1803/s180305.csv', '/usr/soda_data_set/data/filtered-data/18/1803/s180306.csv', '/usr/soda_data_set/data/filtered-data/18/1803/s180307.csv', '/usr/soda_data_set/data/filtered-data/18/1803/s180308.csv', '/usr/soda_data_set/data/filtered-data/18/1803/s180309.csv', '/usr/soda_data_set/data/filtered-data/18/1803/s180310.csv', '/usr/soda_data_set/data/filtered-data/18/1803/s180311.csv', '/usr/soda_data_set/data/filtered-data/18/1803/s180312.csv', '/usr/soda_data_set/data/filtered-data/18/1803/s180313.csv', '/usr/soda_data_set/data/filtered-data/18/1803/s180314.csv', '/usr/soda_data_set/data/filtered-data/18/1803/s180315.csv', '/usr/soda_data_set/data/filtered-data/18/1803/s180316.csv', '/usr/soda_data_set/data/filtered-data/18/1803/s180317.csv', '/usr/soda_data_set/data/filtered-data/18/1803/s180318.csv', '/usr/soda_data_set/data/filtered-data/18/1803/s180319.csv', '/usr/soda_data_set/data/filtered-data/18/1803/s180320.csv', '/usr/soda_data_set/data/filtered-data/18/1803/s180321.csv', '/usr/soda_data_set/data/filtered-data/18/1803/s180322.csv', '/usr/soda_data_set/data/filtered-data/18/1803/s180323.csv', '/usr/soda_data_set/data/filtered-data/18/1803/s180324.csv', '/usr/soda_data_set/data/filtered-data/18/1803/s180325.csv', '/usr/soda_data_set/data/filtered-data/18/1803/s180326.csv', '/usr/soda_data_set/data/filtered-data/18/1803/s180327.csv', '/usr/soda_data_set/data/filtered-data/18/1803/s180328.csv', '/usr/soda_data_set/data/filtered-data/18/1803/s180329.csv', '/usr/soda_data_set/data/filtered-data/18/1803/s180330.csv', '/usr/soda_data_set/data/filtered-data/18/1803/s180331.csv']\n"
     ]
    }
   ],
   "source": [
    "csv_list = []\n",
    "def gci(filepath):\n",
    "#遍历filepath下所有文件，包括子目录\n",
    "    files = os.listdir(filepath)\n",
    "    for fi in files:\n",
    "        fi_d = os.path.join(filepath,fi)\n",
    "        if os.path.isdir(fi_d):\n",
    "            gci(fi_d)\n",
    "        else:\n",
    "            file_path = os.path.join(filepath,fi_d)\n",
    "            if file_path.endswith('csv'):\n",
    "                #print(file_path)\n",
    "                csv_list.append(file_path)\n",
    "    return csv_list\n",
    "csv_list = gci('/usr/soda_data_set/data/filtered-data/18/1803')\n",
    "print(len(csv_list))\n",
    "csv_list.sort()\n",
    "print(csv_list)"
   ]
  },
  {
   "cell_type": "code",
   "execution_count": null,
   "metadata": {},
   "outputs": [],
   "source": [
    "card_id_dict = {}\n",
    "for i in [0,1,2]:\n",
    "    start_time = time.time()\n",
    "    # 每10个一轮，第一个进行拼接\n",
    "    print('第i轮：',str(csv_list[i*10]))\n",
    "    df = soda_data_util(file_path= str(csv_list[i*10])).csv_data\n",
    "    for csv_path in csv_list[i*10+1:i*10+10]:\n",
    "        print('第i轮拼接开始：',str(csv_path]))\n",
    "        df = df.append(soda_data_util(file_path= str(csv_path)).csv_data)\n",
    "    end_time = time.time()\n",
    "    print('总拼接耗时：', end_time - start_time) \n",
    "    start_time = time.time()\n",
    "    gp = df.groupby('card_id')\n",
    "    end_time = time.time()\n",
    "    print('group耗时：', end_time - start_time) \n",
    "    index = 0\n",
    "    for name,group in gp:\n",
    "        #print(name)\n",
    "        #print(group)\n",
    "        if name not in card_id_dict:\n",
    "            # 顺序分别为，total_num，discount_num，line_set，4hour出行次数\n",
    "            card_id_dict[name] = [0,0,set(),0,0,0,0,0,0]\n",
    "        # 加上出行记录\n",
    "        card_id_dict[name][0] += group.shape[0] \n",
    "        # 加上非优惠次数\n",
    "        \n",
    "        card_id_dict[name][1] += (group[group['is_discount'] == '优惠']).shape[0]\n",
    "        end_time = time.time()\n",
    "        print(end_time - start_time)  \n",
    "        # 加上站点\n",
    "        start_time = time.time()\n",
    "        col_line = list(pd.Categorical(group['line']).categories)\n",
    "        #print(col_line)\n",
    "        for s_line in col_line:\n",
    "            card_id_dict[name][2].add(s_line)\n",
    "        end_time = time.time()\n",
    "        print(end_time - start_time)  \n",
    "        # 统计24小时，每6小时间隔数据\n",
    "        start_time = time.time()\n",
    "        time_static_dict = dict(group['time'].groupby (group['time'].map(lambda x: int(int(x[0:2])/4))).count())\n",
    "        for k in time_static_dict:\n",
    "            card_id_dict[name][3+k] += time_static_dict[k]\n",
    "        end_time = time.time()\n",
    "        print(end_time - start_time)  \n",
    "        index = index + 1\n",
    "        if index%10000 ==0:\n",
    "            end_time = time.time()\n",
    "            print(end_time - start_time)   \n",
    "    end_time = time.time()\n",
    "    print(end_time - start_time)\n",
    "    print(len(card_id_dict))"
   ]
  },
  {
   "cell_type": "code",
   "execution_count": null,
   "metadata": {},
   "outputs": [],
   "source": [
    "card_id_dict = {}\n",
    "for csv_path in csv_list:\n",
    "    print(csv_path)\n",
    "    start_time = time.time()\n",
    "    df = soda_data_util(file_path= str(csv_path)).csv_data\n",
    "    gp = df.groupby('card_id')\n",
    "    for name,group in gp:\n",
    "        #print(name)\n",
    "        #print(group)\n",
    "        if name not in card_id_dict:\n",
    "            # 顺序分别为，total_num，discount_num，line_set，4hour出行次数\n",
    "            card_id_dict[name] = [0,0,set(),0,0,0,0,0,0]\n",
    "        # 加上出行记录\n",
    "        card_id_dict[name][0] += group.shape[0]\n",
    "        # 加上非优惠次数\n",
    "        card_id_dict[name][1] += (group[group['is_discount'] == '优惠']).shape[0]\n",
    "        # 加上站点\n",
    "        col_line = list(pd.Categorical(group['line']).categories)\n",
    "        #print(col_line)\n",
    "        for s_line in col_line:\n",
    "            card_id_dict[name][2].add(s_line)\n",
    "        # 统计24小时，每6小时间隔数据\n",
    "        time_static_dict = dict(group['time'].groupby (group['time'].map(lambda x: int(int(x[0:2])/4))).count())\n",
    "        for k in time_static_dict:\n",
    "            card_id_dict[name][3+k] += time_static_dict[k]\n",
    "    end_time = time.time()\n",
    "    print(end_time - start_time)\n",
    "    print(len(card_id_dict))"
   ]
  },
  {
   "cell_type": "code",
   "execution_count": null,
   "metadata": {},
   "outputs": [],
   "source": []
  }
 ],
 "metadata": {
  "kernelspec": {
   "display_name": "Python 3",
   "language": "python",
   "name": "python3"
  },
  "language_info": {
   "codemirror_mode": {
    "name": "ipython",
    "version": 3
   },
   "file_extension": ".py",
   "mimetype": "text/x-python",
   "name": "python",
   "nbconvert_exporter": "python",
   "pygments_lexer": "ipython3",
   "version": "3.6.5"
  }
 },
 "nbformat": 4,
 "nbformat_minor": 2
}
