{
 "cells": [
  {
   "cell_type": "code",
   "execution_count": 1,
   "metadata": {},
   "outputs": [],
   "source": [
    "import pandas as pd\n",
    "import numpy as np\n",
    "from datetime import datetime\n",
    "from sqlalchemy import create_engine\n",
    "import pymysql\n",
    "pymysql.install_as_MySQLdb()\n",
    "import os\n",
    "import sys, urllib, json\n",
    "import time"
   ]
  },
  {
   "cell_type": "code",
   "execution_count": 2,
   "metadata": {},
   "outputs": [],
   "source": [
    "host = '127.0.0.1'\n",
    "port = 3306\n",
    "db = 'soda_data_repo'\n",
    "user = 'root'\n",
    "password = '19940301'\n",
    "# engine = create_engine(str(r\"mysql+mysqldb://%s:\" + '%s' + \"@%s/%s\") % (user, password, host, db))\n",
    "\n",
    "conn = pymysql.connect(host=host,port=port,user=user,password=password,database = db)\n",
    "cursor = conn.cursor()"
   ]
  },
  {
   "cell_type": "code",
   "execution_count": 3,
   "metadata": {},
   "outputs": [],
   "source": [
    "table16 = 'subway16_sta_by_hour_tb'\n",
    "table18 = 'subway18_sta_by_hour_tb'\n",
    "\n",
    "# sites = get_site()\n",
    "# sql1 = \"select * from %s where site='%s' order by data ASC\"%(table18,sites)\n",
    "\n",
    "sql = 'select site,sum(totalrecords) FROM soda_data_repo.subway18_sta_by_hour_tb group by site order by sum(totalrecords) DESC'\n",
    "\n",
    "# get the sites table\n",
    "rnum = cursor.execute(sql)\n",
    "results = cursor.fetchall()"
   ]
  },
  {
   "cell_type": "code",
   "execution_count": 6,
   "metadata": {},
   "outputs": [
    {
     "name": "stdout",
     "output_type": "stream",
     "text": [
      "2号线虹桥火车站\n",
      "8号线人民广场\n",
      "2号线东昌路\n",
      "1号线莘庄\n",
      "1号线徐家汇\n",
      "2号线静安寺\n",
      "4号线世纪大道\n",
      "2号线南京西路\n",
      "1号线莲花路\n",
      "3号线上海火车站\n",
      "1号线上海火车站\n",
      "1号线人民广场\n",
      "2号线南京东路\n",
      "2号线北新泾\n",
      "2号线淞虹路\n",
      "2号线中山公园\n",
      "9号线打浦桥\n",
      "9号线九亭\n",
      "9号线七宝\n",
      "8号线浦江镇\n",
      "2号线金科路\n",
      "9号线漕河泾开发区\n",
      "9号线泗泾\n",
      "10号线陕西南路\n",
      "9号线商城路\n",
      "10号线豫园\n",
      "2号线广兰路\n",
      "8号线虹口足球场\n",
      "1号线彭浦新村\n",
      "3号线上海南站\n",
      "2号线陆家嘴\n",
      "7号线长寿路\n",
      "9号线桂林路\n",
      "10号线南京东路\n",
      "3号线中山公园\n",
      "13号线丰庄\n",
      "1号线中山北路\n",
      "11号线南翔\n",
      "8号线陆家浜路\n",
      "7号线静安寺\n"
     ]
    }
   ],
   "source": [
    "for row in results[:40]:\n",
    "    print(row[0])"
   ]
  },
  {
   "cell_type": "code",
   "execution_count": 7,
   "metadata": {},
   "outputs": [],
   "source": [
    "site_path='/usr/soda_data_set/predictdata/top40.txt'\n",
    "def get_site(path=None):\n",
    "    site_list = []\n",
    "    with open(path,'r') as f:\n",
    "        for line in f:\n",
    "            site_list.append(line.strip('\\n'))\n",
    "    return site_list"
   ]
  },
  {
   "cell_type": "code",
   "execution_count": null,
   "metadata": {},
   "outputs": [],
   "source": []
  }
 ],
 "metadata": {
  "kernelspec": {
   "display_name": "Python 3",
   "language": "python",
   "name": "python3"
  },
  "language_info": {
   "codemirror_mode": {
    "name": "ipython",
    "version": 3
   },
   "file_extension": ".py",
   "mimetype": "text/x-python",
   "name": "python",
   "nbconvert_exporter": "python",
   "pygments_lexer": "ipython3",
   "version": "3.6.5"
  }
 },
 "nbformat": 4,
 "nbformat_minor": 2
}
