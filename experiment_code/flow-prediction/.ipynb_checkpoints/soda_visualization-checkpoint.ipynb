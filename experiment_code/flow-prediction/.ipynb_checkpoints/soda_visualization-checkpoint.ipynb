{
 "cells": [
  {
   "cell_type": "code",
   "execution_count": 1,
   "metadata": {},
   "outputs": [],
   "source": [
    "import pandas as pd\n",
    "import numpy as np\n",
    "import os\n",
    "import csv"
   ]
  },
  {
   "cell_type": "code",
   "execution_count": 2,
   "metadata": {},
   "outputs": [],
   "source": [
    "class soda_data_util:\n",
    "    def __init__(self, file_path, encoding='utf-8',nrows=10):\n",
    "        print('========================================开始读取数据========================================')\n",
    "        # 读取csv表格\n",
    "        self.csv_data = pd.read_csv(file_path, \n",
    "                        encoding = encoding, \n",
    "                        header=None, \n",
    "                        names=['card_id', 'date', 'time', 'line', 'transport', 'amount', 'is_discount'],\n",
    "                        nrows=nrows)\n",
    "        # 打印头尾部分数据\n",
    "        print(self.csv_data.head(5))\n",
    "        print(self.csv_data.tail(5))\n",
    "        # 将所有的列转换为categoriy类别，用于分类\n",
    "        col_card_id = pd.Categorical(self.csv_data['card_id'])\n",
    "        col_date = pd.Categorical(self.csv_data['date'])\n",
    "        col_line = pd.Categorical(self.csv_data['line'])\n",
    "        col_transport = pd.Categorical(self.csv_data['transport'])\n",
    "        col_amount = pd.Categorical(self.csv_data['amount'])\n",
    "        col_is_discount = pd.Categorical(self.csv_data['is_discount'])\n",
    "        # 获取一些数据的基本信息，包括记录数、出行人数、交通类型、线路信息以及是否优惠信息\n",
    "        self.total_records = self.csv_data.shape[0]\n",
    "        self.total_people = len(list(col_card_id.categories))\n",
    "        self.all_lines = list(col_line.categories)\n",
    "        self.total_lines = len(self.all_lines)\n",
    "        self.all_transports = list(col_transport.categories)\n",
    "        self.total_transports = len(self.all_transports)\n",
    "        self.all_is_discount_type = list(col_is_discount.categories)\n",
    "        self.total_is_discount_type = len(self.all_is_discount_type)\n",
    "        print('==================================数据读取完毕，数据的shape为:'+str(self.csv_data.shape)+\"==================================\")\n",
    "    \n",
    "    # 输出数据简介\n",
    "    def summary(self):\n",
    "        print('========================================summary========================================')\n",
    "        print('刷卡总数：'+str(self.total_records))\n",
    "        print('出行总人数：'+str(self.total_people))\n",
    "        print('部分线路：'+str(self.all_lines[:5]))\n",
    "        print('线路总数：'+str(self.total_lines))\n",
    "        print('交通类型：'+str(self.all_transports))\n",
    "        print('交通类型总数：'+str(self.total_transports))\n",
    "        print('优惠类型：'+str(self.all_is_discount_type))\n",
    "        print('优惠类型总数：'+str(self.total_is_discount_type))\n",
    "        \n",
    "    # 数据筛选，根据线路，交通方式，是否折扣来筛选数据\n",
    "    # have update by lx, have add a new function using amount to choose records.\n",
    "    def data_filter(self, line=None, transport=None, amount=None, is_discount=None, card_id=None):\n",
    "        filtered_data = self.csv_data\n",
    "        # 筛选线路\n",
    "        if line is not None:\n",
    "            filtered_data = filtered_data[filtered_data['line'] == line]\n",
    "        # 筛选交通方式\n",
    "        if transport is not None:\n",
    "            filtered_data = filtered_data[filtered_data['transport'] == transport]\n",
    "        # to choose entry records\n",
    "        if amount is not None:\n",
    "            filtered_data = filtered_data[filtered_data['amount'] == amount]\n",
    "        # 筛选是否折扣\n",
    "        if is_discount is not None:\n",
    "            filtered_data = filtered_data[filtered_data['is_discount'] == is_discount]\n",
    "            # to choose entry records\n",
    "        # to choose card_id\n",
    "        if card_id is not None:\n",
    "            print(card_id)\n",
    "            filtered_data = filtered_data[filtered_data['card_id'] == card_id ]\n",
    "        return filtered_data\n",
    "        \n",
    "    \n",
    "    # 根据线路筛选，这个筛选是模糊筛选\n",
    "    # pat=0,1,2 分别代表头，中，尾包含\n",
    "    # have update by lx\n",
    "    def data_filter_by_line_fuzzy_search(self,transport=None,is_discount=None, line_key_word=None, pat=None):\n",
    "        filtered_data = self.csv_data\n",
    "        \n",
    "        # 筛选交通方式\n",
    "        if transport is not None:\n",
    "            filtered_data = filtered_data[filtered_data['transport'] == transport]\n",
    "        # 筛选是否折扣\n",
    "        if is_discount is not None:\n",
    "            filtered_data = filtered_data[filtered_data['is_discount'] == is_discount]\n",
    "            \n",
    "        if pat == None:\n",
    "            return filtered_data\n",
    "        if pat == 0:\n",
    "            return filtered_data[filtered_data['line'].str.contains('^'+line_key_word)]\n",
    "        if pat == 1:\n",
    "            return filtered_data[filtered_data['line'].str.contains(line_key_word)]\n",
    "        if pat == 2:\n",
    "            return filtered_data[filtered_data['line'].str.contains(line_key_word+'$')]\n",
    "        '''  \n",
    "        if pat == 0:\n",
    "            return self.csv_data[self.csv_data['line'].str.contains('^'+line_key_word)]\n",
    "        if pat == 1:\n",
    "            return self.csv_data[self.csv_data['line'].str.contains(line_key_word)]\n",
    "        if pat == 2:\n",
    "            return self.csv_data[self.csv_data['line'].str.contains(line_key_word+'$')]\n",
    "        '''  \n",
    "        #return self.csv_data[self.csv_data['line'].str.start_with(line_key_word)]\n",
    "    \n",
    "    # 对数据按小时分组\n",
    "    def groupByHour(self, line=None, transport=None, is_discount=None, freq=1):\n",
    "        # 获取筛选数据\n",
    "        data_filter = self.data_filter(line, transport, is_discount)\n",
    "        # 对筛选数据进行分组\n",
    "        return data_filter['time'].groupby (data_filter['time'].map(lambda x: int(int(x[0:2])/freq))).count()\n",
    "    \n",
    "    # 对数据按分钟分组\n",
    "    def groupByMin(self, line=None, transport=None, is_discount=None, freq=1):\n",
    "        # 获取筛选数据\n",
    "        data_filter = self.data_filter(line, transport, is_discount)\n",
    "        # 对筛选数据进行分组\n",
    "        return data_filter['time'].groupby (data_filter['time'].map(\n",
    "            lambda x: int((int(x[0:2])*60 + int(x[3:5]))/freq))).count()\n",
    " "
   ]
  },
  {
   "cell_type": "code",
   "execution_count": 11,
   "metadata": {
    "scrolled": true
   },
   "outputs": [
    {
     "ename": "TypeError",
     "evalue": "__init__() got an unexpected keyword argument 'nrows'",
     "output_type": "error",
     "traceback": [
      "\u001b[0;31m---------------------------------------------------------------------------\u001b[0m",
      "\u001b[0;31mTypeError\u001b[0m                                 Traceback (most recent call last)",
      "\u001b[0;32m<ipython-input-11-9f29677ddee6>\u001b[0m in \u001b[0;36m<module>\u001b[0;34m()\u001b[0m\n\u001b[0;32m----> 1\u001b[0;31m \u001b[0msoda_data\u001b[0m \u001b[0;34m=\u001b[0m \u001b[0msoda_data_util\u001b[0m\u001b[0;34m(\u001b[0m\u001b[0;34m'/usr/soda_data_set/data/201803_new/SPTCC-20180309.csv'\u001b[0m\u001b[0;34m,\u001b[0m \u001b[0mencoding\u001b[0m\u001b[0;34m=\u001b[0m\u001b[0;34m'gbk'\u001b[0m\u001b[0;34m,\u001b[0m\u001b[0mnrows\u001b[0m\u001b[0;34m=\u001b[0m\u001b[0;36m10\u001b[0m\u001b[0;34m)\u001b[0m\u001b[0;34m\u001b[0m\u001b[0m\n\u001b[0m",
      "\u001b[0;31mTypeError\u001b[0m: __init__() got an unexpected keyword argument 'nrows'"
     ]
    }
   ],
   "source": [
    "soda_data = soda_data_util('/usr/soda_data_set/data/201803_new/SPTCC-20180309.csv', encoding='gbk')"
   ]
  },
  {
   "cell_type": "code",
   "execution_count": 11,
   "metadata": {},
   "outputs": [
    {
     "name": "stdout",
     "output_type": "stream",
     "text": [
      "========================================summary========================================\n",
      "刷卡总数：14339930\n",
      "出行总人数：14270111\n",
      "部分线路：['01线', '04线', '1001路', '1002路', '1003路']\n",
      "线路总数：1569\n",
      "交通类型：['P+R停车场', '公交', '出租', '地铁', '轮渡']\n",
      "交通类型总数：5\n",
      "优惠类型：['优惠', '无', '非优惠']\n",
      "优惠类型总数：3\n"
     ]
    }
   ],
   "source": [
    "soda_data.summary()"
   ]
  },
  {
   "cell_type": "code",
   "execution_count": 4,
   "metadata": {},
   "outputs": [],
   "source": [
    "def readtxt(path):\n",
    "    site_list = []\n",
    "    with open(path,'r') as f:\n",
    "        for line in f:\n",
    "            site_list.append(line.strip('\\n'))\n",
    "    return site_list"
   ]
  },
  {
   "cell_type": "code",
   "execution_count": 5,
   "metadata": {
    "collapsed": true
   },
   "outputs": [],
   "source": [
    "class subway:\n",
    "    def __init__(self,csv):\n",
    "        self.subway_csv = csv\n",
    "        # self.\n",
    "        # 将所有的列转换为categoriy类别，用于分类\n",
    "        col_card_id = pd.Categorical(self.subway_csv['card_id'])\n",
    "        col_date = pd.Categorical(self.subway_csv['date'])\n",
    "        col_line = pd.Categorical(self.subway_csv['line'])\n",
    "        \n",
    "        col_amount = pd.Categorical(self.subway_csv['amount'])\n",
    "        col_is_discount = pd.Categorical(self.subway_csv['is_discount'])\n",
    "        \n",
    "        # 获取一些数据的基本信息，包括记录数、出行人数、交通类型、线路信息以及是否优惠信息\n",
    "        self.total_records = self.subway_csv.shape[0]\n",
    "        self.total_people = len(list(col_card_id.categories))\n",
    "        self.all_lines = list(col_line.categories)\n",
    "        self.total_lines = len(self.all_lines)\n",
    "\n",
    "        self.all_is_discount_type = list(col_is_discount.categories)\n",
    "        self.total_is_discount_type = len(self.all_is_discount_type)\n",
    "        \n",
    "        print('==================================地铁数据的shape为:'+str(self.subway_csv.shape)+\"==================================\")\n",
    "\n",
    "    # 一些统计量   \n",
    "    def records_rate(self,total_record):\n",
    "        return self.total_records/total_record\n",
    "    def people_rate(self,total_people):\n",
    "        return self.total_people/total_people\n",
    "    def lines_rate(self,total_line):\n",
    "        return self.total_lines/total_line\n",
    "\n",
    "    # 优惠与非优惠的比率\n",
    "    def discount_rate(self):\n",
    "        filtered_data = self.subway_csv\n",
    "        filtered_data = filtered_data[filtered_data['is_discount'] == '优惠']\n",
    "        return filtered_data.shape[0]/(self.total_records*0.5)  \n",
    "        "
   ]
  },
  {
   "cell_type": "code",
   "execution_count": 3,
   "metadata": {
    "scrolled": false
   },
   "outputs": [
    {
     "name": "stdout",
     "output_type": "stream",
     "text": [
      "========================================开始读取数据========================================\n",
      "      card_id        date      time       line transport  amount is_discount\n",
      "0  4101402139  2018-01-01  14:33:55   10号线新江湾城        地铁     4.0          优惠\n",
      "1  4122949043  2018-01-01  14:04:38     10号线豫园        地铁     0.0         非优惠\n",
      "2  3147681127  2018-01-01  08:25:14  9号线漕河泾开发区        地铁     4.0          优惠\n",
      "3  3149031595  2018-01-01  07:52:19    11号线枫桥路        地铁     0.0         非优惠\n",
      "4  3151331509  2018-01-01  18:50:01    11号线枫桥路        地铁     4.0          优惠\n",
      "            card_id        date      time     line transport  amount  \\\n",
      "6538274  3074132359  2018-01-01  20:54:32  13号线武宁路        地铁     0.0   \n",
      "6538275  4064197292  2018-01-01  20:44:49  13号线武宁路        地铁     0.0   \n",
      "6538276  2987687137  2018-01-01  16:13:11  13号线武宁路        地铁     0.0   \n",
      "6538277  2439818388  2018-01-01  16:13:07  13号线武宁路        地铁     0.0   \n",
      "6538278  2780243115  2018-01-01  16:09:02  13号线武宁路        地铁     0.0   \n",
      "\n",
      "        is_discount  \n",
      "6538274         非优惠  \n",
      "6538275         非优惠  \n",
      "6538276         非优惠  \n",
      "6538277         非优惠  \n",
      "6538278         非优惠  \n",
      "==================================数据读取完毕，数据的shape为:(6538279, 7)==================================\n",
      "========================================summary========================================\n",
      "刷卡总数：6538279\n",
      "出行总人数：6522960\n",
      "部分线路：['10号线三门路', '10号线上海动物园', '10号线上海图书馆', '10号线五角场', '10号线交通大学']\n",
      "线路总数：313\n",
      "交通类型：['地铁']\n",
      "交通类型总数：1\n",
      "优惠类型：['优惠', '非优惠']\n",
      "优惠类型总数：2\n"
     ]
    }
   ],
   "source": [
    "file_path = '/usr/soda_data_set/subway/1801/'#  ./SPTCC-20180101.csv\n",
    "soda_data = soda_data_util(file_path= file_path+'s180101.csv')\n",
    "soda_data.summary()"
   ]
  },
  {
   "cell_type": "code",
   "execution_count": 7,
   "metadata": {},
   "outputs": [
    {
     "name": "stdout",
     "output_type": "stream",
     "text": [
      "3074132359\n"
     ]
    },
    {
     "data": {
      "text/html": [
       "<div>\n",
       "<style scoped>\n",
       "    .dataframe tbody tr th:only-of-type {\n",
       "        vertical-align: middle;\n",
       "    }\n",
       "\n",
       "    .dataframe tbody tr th {\n",
       "        vertical-align: top;\n",
       "    }\n",
       "\n",
       "    .dataframe thead th {\n",
       "        text-align: right;\n",
       "    }\n",
       "</style>\n",
       "<table border=\"1\" class=\"dataframe\">\n",
       "  <thead>\n",
       "    <tr style=\"text-align: right;\">\n",
       "      <th></th>\n",
       "      <th>card_id</th>\n",
       "      <th>date</th>\n",
       "      <th>time</th>\n",
       "      <th>line</th>\n",
       "      <th>transport</th>\n",
       "      <th>amount</th>\n",
       "      <th>is_discount</th>\n",
       "    </tr>\n",
       "  </thead>\n",
       "  <tbody>\n",
       "    <tr>\n",
       "      <th>6538274</th>\n",
       "      <td>3074132359</td>\n",
       "      <td>2018-01-01</td>\n",
       "      <td>20:54:32</td>\n",
       "      <td>13号线武宁路</td>\n",
       "      <td>地铁</td>\n",
       "      <td>0.0</td>\n",
       "      <td>非优惠</td>\n",
       "    </tr>\n",
       "  </tbody>\n",
       "</table>\n",
       "</div>"
      ],
      "text/plain": [
       "            card_id        date      time     line transport  amount  \\\n",
       "6538274  3074132359  2018-01-01  20:54:32  13号线武宁路        地铁     0.0   \n",
       "\n",
       "        is_discount  \n",
       "6538274         非优惠  "
      ]
     },
     "execution_count": 7,
     "metadata": {},
     "output_type": "execute_result"
    }
   ],
   "source": [
    "soda_data.data_filter(card_id=3074132359)# line='4号线大木桥路 ')"
   ]
  },
  {
   "cell_type": "code",
   "execution_count": 13,
   "metadata": {},
   "outputs": [
    {
     "data": {
      "text/plain": [
       "['10号线三门路',\n",
       " '10号线上海动物园',\n",
       " '10号线上海图书馆',\n",
       " '10号线五角场',\n",
       " '10号线交通大学',\n",
       " '10号线伊犁路',\n",
       " '10号线南京东路',\n",
       " '10号线同济大学',\n",
       " '10号线四川北路',\n",
       " '10号线国权路',\n",
       " '10号线天潼路',\n",
       " '10号线宋园路',\n",
       " '10号线新天地',\n",
       " '10号线新江湾城',\n",
       " '10号线殷高东路',\n",
       " '10号线水城路',\n",
       " '10号线江湾体育场',\n",
       " '10号线海伦路',\n",
       " '10号线紫藤路',\n",
       " '10号线航中路',\n",
       " '10号线虹桥1号航站楼',\n",
       " '10号线虹桥路',\n",
       " '10号线豫园',\n",
       " '10号线邮电新村',\n",
       " '10号线陕西南路',\n",
       " '10号线龙柏新村',\n",
       " '10号线龙溪路',\n",
       " '11号线三林',\n",
       " '11号线三林东',\n",
       " '11号线上海汽车城',\n",
       " '11号线上海游泳馆',\n",
       " '11号线上海西站',\n",
       " '11号线上海赛车场',\n",
       " '11号线云锦路',\n",
       " '11号线兆丰路',\n",
       " '11号线光明路',\n",
       " '11号线南翔',\n",
       " '11号线嘉定北',\n",
       " '11号线嘉定新城',\n",
       " '11号线嘉定西',\n",
       " '11号线安亭',\n",
       " '11号线御桥',\n",
       " '11号线昌吉东路',\n",
       " '11号线曹杨路',\n",
       " '11号线李子园路',\n",
       " '11号线枫桥路',\n",
       " '11号线桃浦新村',\n",
       " '11号线武威路',\n",
       " '11号线江苏路',\n",
       " '11号线浦三路',\n",
       " '11号线白银路',\n",
       " '11号线真如',\n",
       " '11号线祁连山路',\n",
       " '11号线罗山路',\n",
       " '11号线花桥',\n",
       " '11号线隆德路',\n",
       " '11号线马陆',\n",
       " '11号线龙华',\n",
       " '11号线龙耀路',\n",
       " '12号线东陆路',\n",
       " '12号线国际客运中心',\n",
       " '12号线复兴岛',\n",
       " '12号线宁国路',\n",
       " '12号线巨峰路',\n",
       " '12号线提篮桥',\n",
       " '12号线杨高北路',\n",
       " '12号线江浦公园',\n",
       " '12号线爱国路',\n",
       " '12号线申江路',\n",
       " '12号线金京路',\n",
       " '12号线金海路',\n",
       " '12号线隆昌路',\n",
       " '13号线丰庄',\n",
       " '13号线大渡河路',\n",
       " '13号线武宁路',\n",
       " '13号线真北路',\n",
       " '13号线祁连山南路',\n",
       " '13号线金沙江西路',\n",
       " '13号线金沙江路',\n",
       " '13号线金运路',\n",
       " '16号线上海野生动物园',\n",
       " '16号线临港大道',\n",
       " '16号线书院',\n",
       " '16号线华夏中路',\n",
       " '16号线周浦东',\n",
       " '16号线惠南',\n",
       " '16号线惠南东',\n",
       " '16号线新场',\n",
       " '16号线滴水湖',\n",
       " '16号线航头东',\n",
       " '16号线鹤沙航城',\n",
       " '16号线龙阳路',\n",
       " '1号线上海体育馆',\n",
       " '1号线上海南站',\n",
       " '1号线上海火车站',\n",
       " '1号线上海马戏城',\n",
       " '1号线中山北路',\n",
       " '1号线人民广场',\n",
       " '1号线共富新村',\n",
       " '1号线共康路',\n",
       " '1号线友谊西路',\n",
       " '1号线呼兰路',\n",
       " '1号线外环路',\n",
       " '1号线宝安公路',\n",
       " '1号线富锦路',\n",
       " '1号线常熟路',\n",
       " '1号线延长路',\n",
       " '1号线彭浦新村',\n",
       " '1号线徐家汇',\n",
       " '1号线新闸路',\n",
       " '1号线汉中路',\n",
       " '1号线汶水路',\n",
       " '1号线漕宝路',\n",
       " '1号线莘庄',\n",
       " '1号线莲花路',\n",
       " '1号线衡山路',\n",
       " '1号线通河新村',\n",
       " '1号线锦江乐园',\n",
       " '1号线陕西南路',\n",
       " '1号线黄陂南路',\n",
       " '2号线上海科技馆',\n",
       " '2号线世纪公园',\n",
       " '2号线东昌路',\n",
       " '2号线中山公园',\n",
       " '2号线凌空路',\n",
       " '2号线创新中路',\n",
       " '2号线北新泾',\n",
       " '2号线华夏东路',\n",
       " '2号线南京东路',\n",
       " '2号线南京西路',\n",
       " '2号线唐镇',\n",
       " '2号线威宁路',\n",
       " '2号线娄山关路',\n",
       " '2号线川沙',\n",
       " '2号线广兰路',\n",
       " '2号线张江高科',\n",
       " '2号线徐泾东',\n",
       " '2号线江苏路',\n",
       " '2号线浦东国际机场',\n",
       " '2号线海天三路',\n",
       " '2号线淞虹路',\n",
       " '2号线虹桥2号航站楼',\n",
       " '2号线虹桥火车站',\n",
       " '2号线远东大道',\n",
       " '2号线金科路',\n",
       " '2号线陆家嘴',\n",
       " '2号线静安寺',\n",
       " '2号线龙阳路',\n",
       " '3号线上海南站',\n",
       " '3号线上海火车站',\n",
       " '3号线东宝兴路',\n",
       " '3号线中山公园',\n",
       " '3号线中潭路',\n",
       " '3号线友谊路',\n",
       " '3号线大柏树',\n",
       " '3号线宜山路',\n",
       " '3号线宝山路',\n",
       " '3号线宝杨路',\n",
       " '3号线延安西路',\n",
       " '3号线张华浜',\n",
       " '3号线曹杨路',\n",
       " '3号线殷高西路',\n",
       " '3号线水产路',\n",
       " '3号线江杨北路',\n",
       " '3号线江湾镇',\n",
       " '3号线淞发路',\n",
       " '3号线淞浜路',\n",
       " '3号线漕溪路',\n",
       " '3号线石龙路',\n",
       " '3号线虹口足球场',\n",
       " '3号线虹桥路',\n",
       " '3号线赤峰路',\n",
       " '3号线金沙江路',\n",
       " '3号线铁力路',\n",
       " '3号线镇坪路',\n",
       " '3号线长江南路',\n",
       " '3号线龙漕路',\n",
       " '4号线上海体育场',\n",
       " '4号线上海体育馆',\n",
       " '4号线世纪大道',\n",
       " '4号线东安路',\n",
       " '4号线临平路',\n",
       " '4号线南浦大桥',\n",
       " '4号线塘桥',\n",
       " '4号线大木桥路 ',\n",
       " '4号线大连路',\n",
       " '4号线宜山路',\n",
       " '4号线杨树浦路',\n",
       " '4号线浦东大道',\n",
       " '4号线浦电路',\n",
       " '4号线海伦路',\n",
       " '4号线蓝村路',\n",
       " '4号线鲁班路',\n",
       " '5号线东川路',\n",
       " '5号线剑川路',\n",
       " '5号线北桥',\n",
       " '5号线华宁路',\n",
       " '5号线文井路',\n",
       " '5号线春申路',\n",
       " '5号线金平路',\n",
       " '5号线银都路',\n",
       " '5号线闵行开发区',\n",
       " '5号线颛桥',\n",
       " '6号线上南路',\n",
       " '6号线上海儿童医学中心',\n",
       " '6号线东方体育中心',\n",
       " '6号线东明路',\n",
       " '6号线东靖路',\n",
       " '6号线临沂新村',\n",
       " '6号线云山路',\n",
       " '6号线五洲大道',\n",
       " '6号线五莲路',\n",
       " '6号线北洋泾路',\n",
       " '6号线华夏西路',\n",
       " '6号线博兴路',\n",
       " '6号线外高桥保税区北',\n",
       " '6号线外高桥保税区南',\n",
       " '6号线巨峰路',\n",
       " '6号线德平路',\n",
       " '6号线民生路',\n",
       " '6号线洲海路',\n",
       " '6号线浦电路',\n",
       " '6号线港城路',\n",
       " '6号线源深体育中心',\n",
       " '6号线灵岩南路',\n",
       " '6号线航津路',\n",
       " '6号线蓝村路',\n",
       " '6号线金桥路',\n",
       " '6号线高科西路',\n",
       " '6号线高青路',\n",
       " '7号线上大路',\n",
       " '7号线上海大学站',\n",
       " '7号线东安路',\n",
       " '7号线云台路',\n",
       " '7号线刘行',\n",
       " '7号线南陈路',\n",
       " '7号线后滩',\n",
       " '7号线场中路',\n",
       " '7号线大华三路',\n",
       " '7号线大场镇',\n",
       " '7号线岚皋路',\n",
       " '7号线常熟路',\n",
       " '7号线新村路',\n",
       " '7号线昌平路',\n",
       " '7号线杨高南路',\n",
       " '7号线潘广路',\n",
       " '7号线祁华路',\n",
       " '7号线罗南新村',\n",
       " '7号线美兰湖',\n",
       " '7号线肇嘉浜路',\n",
       " '7号线花木路',\n",
       " '7号线芳华路',\n",
       " '7号线行知路',\n",
       " '7号线锦绣路',\n",
       " '7号线镇坪路',\n",
       " '7号线长寿路',\n",
       " '7号线长清路',\n",
       " '7号线静安寺',\n",
       " '7号线顾村公园',\n",
       " '7号线龙华中路',\n",
       " '7号线龙阳路',\n",
       " '8号线中兴路',\n",
       " '8号线中华艺术宫',\n",
       " '8号线人民广场',\n",
       " '8号线凌兆新村',\n",
       " '8号线四平路',\n",
       " '8号线大世界',\n",
       " '8号线嫩江路',\n",
       " '8号线市光路',\n",
       " '8号线延吉中路',\n",
       " '8号线成山路',\n",
       " '8号线曲阜路',\n",
       " '8号线曲阳路',\n",
       " '8号线杨思',\n",
       " '8号线江月路',\n",
       " '8号线江浦路',\n",
       " '8号线沈杜公路',\n",
       " '8号线浦江镇',\n",
       " '8号线翔殷路',\n",
       " '8号线耀华路',\n",
       " '8号线老西门',\n",
       " '8号线联航路',\n",
       " '8号线芦恒路',\n",
       " '8号线虹口足球场',\n",
       " '8号线西藏北路',\n",
       " '8号线西藏南路',\n",
       " '8号线陆家浜路',\n",
       " '8号线鞍山新村',\n",
       " '8号线黄兴公园',\n",
       " '8号线黄兴路',\n",
       " '9号线七宝',\n",
       " '9号线中春路',\n",
       " '9号线九亭',\n",
       " '9号线佘山',\n",
       " '9号线合川路',\n",
       " '9号线商城路',\n",
       " '9号线嘉善路',\n",
       " '9号线宜山路',\n",
       " '9号线小南门',\n",
       " '9号线徐家汇',\n",
       " '9号线打浦桥',\n",
       " '9号线星中路',\n",
       " '9号线杨高中路',\n",
       " '9号线松江体育中心',\n",
       " '9号线松江南站',\n",
       " '9号线松江大学城',\n",
       " '9号线松江新城',\n",
       " '9号线桂林路',\n",
       " '9号线泗泾',\n",
       " '9号线洞泾',\n",
       " '9号线漕河泾开发区',\n",
       " '9号线醉白池',\n",
       " '9号线马当路']"
      ]
     },
     "execution_count": 13,
     "metadata": {},
     "output_type": "execute_result"
    }
   ],
   "source": [
    "soda_data.all_lines"
   ]
  },
  {
   "cell_type": "code",
   "execution_count": null,
   "metadata": {},
   "outputs": [],
   "source": [
    "'''\n",
    "the first value: sites\n",
    "the second value: date\n",
    "the third value: total\n",
    "the fourth to the end value: 0-23\n",
    "'''\n"
   ]
  },
  {
   "cell_type": "code",
   "execution_count": 29,
   "metadata": {},
   "outputs": [
    {
     "data": {
      "text/plain": [
       "'2018-01-01'"
      ]
     },
     "execution_count": 29,
     "metadata": {},
     "output_type": "execute_result"
    }
   ],
   "source": [
    "soda_data.csv_data['date'][0]"
   ]
  },
  {
   "cell_type": "code",
   "execution_count": null,
   "metadata": {},
   "outputs": [],
   "source": []
  },
  {
   "cell_type": "code",
   "execution_count": 34,
   "metadata": {},
   "outputs": [],
   "source": [
    "def get_date(path):\n",
    "    flist = os.listdir(path)\n",
    "    res = []\n",
    "    for i in flist:\n",
    "        print(i)\n",
    "        res.append(os.path.join(path,i))\n",
    "    return res"
   ]
  },
  {
   "cell_type": "code",
   "execution_count": 46,
   "metadata": {},
   "outputs": [],
   "source": [
    "def get_curve(result):\n",
    "    res = np.zeros(24)\n",
    "    for i in result.index:\n",
    "        res[i]=result[i]\n",
    "    return res.tolist()"
   ]
  },
  {
   "cell_type": "code",
   "execution_count": 61,
   "metadata": {},
   "outputs": [],
   "source": [
    "def get_list_from_array(a):\n",
    "    tem = []\n",
    "    for i in a:\n",
    "        tem.append(str(i))\n",
    "    return tem"
   ]
  },
  {
   "cell_type": "code",
   "execution_count": 64,
   "metadata": {},
   "outputs": [],
   "source": [
    "def add_table_title(filename='sitedata.csv'):\n",
    "    with open(filename,'a',newline='') as f:\n",
    "        writer = csv.writer(f)\n",
    "        tem = ['site','data','totalrecords']\n",
    "        res = np.array(range(0,24))\n",
    "        res = get_list_from_array(res)\n",
    "        tem.extend(res)\n",
    "        print(tem)\n",
    "        writer.writerow(tem)  "
   ]
  },
  {
   "cell_type": "code",
   "execution_count": 65,
   "metadata": {},
   "outputs": [
    {
     "name": "stdout",
     "output_type": "stream",
     "text": [
      "['site', 'data', 'totalrecords', '0', '1', '2', '3', '4', '5', '6', '7', '8', '9', '10', '11', '12', '13', '14', '15', '16', '17', '18', '19', '20', '21', '22', '23']\n"
     ]
    }
   ],
   "source": [
    "add_table_title()"
   ]
  },
  {
   "cell_type": "code",
   "execution_count": 68,
   "metadata": {},
   "outputs": [],
   "source": [
    "def add_records(filename='sitedata.csv',site=None,date=None,total=None,result=None):\n",
    "    with open(filename,'a',newline='') as f:\n",
    "        writer = csv.writer(f)\n",
    "        tem = []\n",
    "        tem.append(site)\n",
    "        tem.append(date)\n",
    "        tem.append(total)\n",
    "        tem.extend(result)\n",
    "        writer.writerow(tem)  "
   ]
  },
  {
   "cell_type": "code",
   "execution_count": 35,
   "metadata": {
    "scrolled": true
   },
   "outputs": [
    {
     "name": "stdout",
     "output_type": "stream",
     "text": [
      "s180122.csv\n",
      "s180106.csv\n",
      "s180118.csv\n",
      "s180129.csv\n",
      "s180105.csv\n",
      "s180101.csv\n",
      "s180108.csv\n",
      "s180126.csv\n",
      "s180130.csv\n",
      "s180116.csv\n",
      "s180119.csv\n",
      "s180115.csv\n",
      "s180107.csv\n",
      "s180109.csv\n",
      "s180125.csv\n",
      "s180104.csv\n",
      "s180128.csv\n",
      "s180117.csv\n",
      "s180114.csv\n",
      "s180111.csv\n",
      "s180102.csv\n",
      "s180113.csv\n",
      "s180120.csv\n",
      "s180103.csv\n",
      "s180131.csv\n",
      "s180112.csv\n",
      "s180127.csv\n",
      "s180124.csv\n",
      "s180121.csv\n",
      "s180110.csv\n",
      "s180123.csv\n"
     ]
    }
   ],
   "source": [
    "flist = get_date(file_path)\n"
   ]
  },
  {
   "cell_type": "code",
   "execution_count": 52,
   "metadata": {},
   "outputs": [
    {
     "data": {
      "text/plain": [
       "['/usr/soda_data_set/subway/1801/s180101.csv']"
      ]
     },
     "execution_count": 52,
     "metadata": {},
     "output_type": "execute_result"
    }
   ],
   "source": [
    "flist[:1]"
   ]
  },
  {
   "cell_type": "code",
   "execution_count": 54,
   "metadata": {},
   "outputs": [
    {
     "data": {
      "text/plain": [
       "'10号线三门路'"
      ]
     },
     "execution_count": 54,
     "metadata": {},
     "output_type": "execute_result"
    }
   ],
   "source": [
    "sites[0]"
   ]
  },
  {
   "cell_type": "code",
   "execution_count": 69,
   "metadata": {},
   "outputs": [
    {
     "name": "stdout",
     "output_type": "stream",
     "text": [
      "['site', 'data', 'totalrecords', '0', '1', '2', '3', '4', '5', '6', '7', '8', '9', '10', '11', '12', '13', '14', '15', '16', '17', '18', '19', '20', '21', '22', '23']\n",
      "/usr/soda_data_set/subway/1801/s180101.csv\n",
      "========================================开始读取数据========================================\n",
      "      card_id        date      time       line transport  amount is_discount\n",
      "0  4101402139  2018-01-01  14:33:55   10号线新江湾城        地铁     4.0          优惠\n",
      "1  4122949043  2018-01-01  14:04:38     10号线豫园        地铁     0.0         非优惠\n",
      "2  3147681127  2018-01-01  08:25:14  9号线漕河泾开发区        地铁     4.0          优惠\n",
      "3  3149031595  2018-01-01  07:52:19    11号线枫桥路        地铁     0.0         非优惠\n",
      "4  3151331509  2018-01-01  18:50:01    11号线枫桥路        地铁     4.0          优惠\n",
      "            card_id        date      time     line transport  amount  \\\n",
      "6538274  3074132359  2018-01-01  20:54:32  13号线武宁路        地铁     0.0   \n",
      "6538275  4064197292  2018-01-01  20:44:49  13号线武宁路        地铁     0.0   \n",
      "6538276  2987687137  2018-01-01  16:13:11  13号线武宁路        地铁     0.0   \n",
      "6538277  2439818388  2018-01-01  16:13:07  13号线武宁路        地铁     0.0   \n",
      "6538278  2780243115  2018-01-01  16:09:02  13号线武宁路        地铁     0.0   \n",
      "\n",
      "        is_discount  \n",
      "6538274         非优惠  \n",
      "6538275         非优惠  \n",
      "6538276         非优惠  \n",
      "6538277         非优惠  \n",
      "6538278         非优惠  \n",
      "==================================数据读取完毕，数据的shape为:(6538279, 7)==================================\n",
      "add: 10号线三门路\n"
     ]
    }
   ],
   "source": [
    "filename = 'sitedata1801.csv'\n",
    "add_table_title(filename)\n",
    "\n",
    "for f in flist[:1]:\n",
    "    print(f)\n",
    "    soda_data = soda_data_util(file_path= f)\n",
    "    date = soda_data.csv_data['date'][0]\n",
    "    \n",
    "    for s in sites[:1]:\n",
    "        result=soda_data.groupByHour(line=s, freq=1)\n",
    "        result = get_curve(result)\n",
    "        \n",
    "        sitename = s\n",
    "        \n",
    "        total = soda_data.data_filter(line=s).shape[0]# soda_data.total_records\n",
    "        \n",
    "        add_records(filename,sitename,date,total,result)\n",
    "        print('add:',s)"
   ]
  },
  {
   "cell_type": "code",
   "execution_count": null,
   "metadata": {},
   "outputs": [],
   "source": []
  },
  {
   "cell_type": "code",
   "execution_count": 6,
   "metadata": {
    "scrolled": true
   },
   "outputs": [
    {
     "name": "stdout",
     "output_type": "stream",
     "text": [
      "==================================地铁数据的shape为:(7750169, 7)==================================\n",
      "地铁记录比率： 0.6094210508312912\n",
      "地铁人次比率： 0.6104022459665741\n",
      "地铁线路比率： 0.1996173469387755\n",
      "地铁优惠比率： 0.16359488418897705\n"
     ]
    }
   ],
   "source": [
    "subway_csv = soda_data.data_filter(transport='地铁')\n",
    "subway_data = subway(subway_csv)\n",
    "\n",
    "print('地铁记录比率：',subway_data.records_rate(soda_data.total_records))\n",
    "print('地铁人次比率：',subway_data.people_rate(soda_data.total_people))\n",
    "print('地铁线路比率：',subway_data.lines_rate(soda_data.total_lines))\n",
    "print('地铁优惠比率：', subway_data.discount_rate())"
   ]
  },
  {
   "cell_type": "code",
   "execution_count": 41,
   "metadata": {},
   "outputs": [
    {
     "data": {
      "text/plain": [
       "time\n",
       "0      18\n",
       "5       5\n",
       "6      40\n",
       "7      95\n",
       "8     178\n",
       "9     179\n",
       "10    308\n",
       "11    276\n",
       "12    218\n",
       "13    292\n",
       "14    420\n",
       "15    393\n",
       "16    411\n",
       "17    433\n",
       "18    388\n",
       "19    324\n",
       "20    208\n",
       "21    172\n",
       "22    108\n",
       "23     21\n",
       "Name: time, dtype: int64"
      ]
     },
     "execution_count": 41,
     "metadata": {},
     "output_type": "execute_result"
    }
   ],
   "source": [
    "soda_data.groupByHour(line=sites[0], freq=1)"
   ]
  },
  {
   "cell_type": "code",
   "execution_count": 20,
   "metadata": {},
   "outputs": [
    {
     "ename": "KeyError",
     "evalue": "'0'",
     "output_type": "error",
     "traceback": [
      "\u001b[0;31m---------------------------------------------------------------------------\u001b[0m",
      "\u001b[0;31mTypeError\u001b[0m                                 Traceback (most recent call last)",
      "\u001b[0;32mpandas/_libs/index.pyx\u001b[0m in \u001b[0;36mpandas._libs.index.IndexEngine.get_loc\u001b[0;34m()\u001b[0m\n",
      "\u001b[0;32mpandas/_libs/hashtable_class_helper.pxi\u001b[0m in \u001b[0;36mpandas._libs.hashtable.Int64HashTable.get_item\u001b[0;34m()\u001b[0m\n",
      "\u001b[0;31mTypeError\u001b[0m: an integer is required",
      "\nDuring handling of the above exception, another exception occurred:\n",
      "\u001b[0;31mKeyError\u001b[0m                                  Traceback (most recent call last)",
      "\u001b[0;32m<ipython-input-20-476f34f1ad77>\u001b[0m in \u001b[0;36m<module>\u001b[0;34m()\u001b[0m\n\u001b[0;32m----> 1\u001b[0;31m \u001b[0mresult\u001b[0m\u001b[0;34m[\u001b[0m\u001b[0;34m'0'\u001b[0m\u001b[0;34m]\u001b[0m\u001b[0;34m\u001b[0m\u001b[0m\n\u001b[0m",
      "\u001b[0;32m/usr/local/anaconda3/envs/tf-gpu-1.10/lib/python3.6/site-packages/pandas/core/series.py\u001b[0m in \u001b[0;36m__getitem__\u001b[0;34m(self, key)\u001b[0m\n\u001b[1;32m    765\u001b[0m         \u001b[0mkey\u001b[0m \u001b[0;34m=\u001b[0m \u001b[0mcom\u001b[0m\u001b[0;34m.\u001b[0m\u001b[0m_apply_if_callable\u001b[0m\u001b[0;34m(\u001b[0m\u001b[0mkey\u001b[0m\u001b[0;34m,\u001b[0m \u001b[0mself\u001b[0m\u001b[0;34m)\u001b[0m\u001b[0;34m\u001b[0m\u001b[0m\n\u001b[1;32m    766\u001b[0m         \u001b[0;32mtry\u001b[0m\u001b[0;34m:\u001b[0m\u001b[0;34m\u001b[0m\u001b[0m\n\u001b[0;32m--> 767\u001b[0;31m             \u001b[0mresult\u001b[0m \u001b[0;34m=\u001b[0m \u001b[0mself\u001b[0m\u001b[0;34m.\u001b[0m\u001b[0mindex\u001b[0m\u001b[0;34m.\u001b[0m\u001b[0mget_value\u001b[0m\u001b[0;34m(\u001b[0m\u001b[0mself\u001b[0m\u001b[0;34m,\u001b[0m \u001b[0mkey\u001b[0m\u001b[0;34m)\u001b[0m\u001b[0;34m\u001b[0m\u001b[0m\n\u001b[0m\u001b[1;32m    768\u001b[0m \u001b[0;34m\u001b[0m\u001b[0m\n\u001b[1;32m    769\u001b[0m             \u001b[0;32mif\u001b[0m \u001b[0;32mnot\u001b[0m \u001b[0mis_scalar\u001b[0m\u001b[0;34m(\u001b[0m\u001b[0mresult\u001b[0m\u001b[0;34m)\u001b[0m\u001b[0;34m:\u001b[0m\u001b[0;34m\u001b[0m\u001b[0m\n",
      "\u001b[0;32m/usr/local/anaconda3/envs/tf-gpu-1.10/lib/python3.6/site-packages/pandas/core/indexes/base.py\u001b[0m in \u001b[0;36mget_value\u001b[0;34m(self, series, key)\u001b[0m\n\u001b[1;32m   3116\u001b[0m         \u001b[0;32mtry\u001b[0m\u001b[0;34m:\u001b[0m\u001b[0;34m\u001b[0m\u001b[0m\n\u001b[1;32m   3117\u001b[0m             return self._engine.get_value(s, k,\n\u001b[0;32m-> 3118\u001b[0;31m                                           tz=getattr(series.dtype, 'tz', None))\n\u001b[0m\u001b[1;32m   3119\u001b[0m         \u001b[0;32mexcept\u001b[0m \u001b[0mKeyError\u001b[0m \u001b[0;32mas\u001b[0m \u001b[0me1\u001b[0m\u001b[0;34m:\u001b[0m\u001b[0;34m\u001b[0m\u001b[0m\n\u001b[1;32m   3120\u001b[0m             \u001b[0;32mif\u001b[0m \u001b[0mlen\u001b[0m\u001b[0;34m(\u001b[0m\u001b[0mself\u001b[0m\u001b[0;34m)\u001b[0m \u001b[0;34m>\u001b[0m \u001b[0;36m0\u001b[0m \u001b[0;32mand\u001b[0m \u001b[0mself\u001b[0m\u001b[0;34m.\u001b[0m\u001b[0minferred_type\u001b[0m \u001b[0;32min\u001b[0m \u001b[0;34m[\u001b[0m\u001b[0;34m'integer'\u001b[0m\u001b[0;34m,\u001b[0m \u001b[0;34m'boolean'\u001b[0m\u001b[0;34m]\u001b[0m\u001b[0;34m:\u001b[0m\u001b[0;34m\u001b[0m\u001b[0m\n",
      "\u001b[0;32mpandas/_libs/index.pyx\u001b[0m in \u001b[0;36mpandas._libs.index.IndexEngine.get_value\u001b[0;34m()\u001b[0m\n",
      "\u001b[0;32mpandas/_libs/index.pyx\u001b[0m in \u001b[0;36mpandas._libs.index.IndexEngine.get_value\u001b[0;34m()\u001b[0m\n",
      "\u001b[0;32mpandas/_libs/index.pyx\u001b[0m in \u001b[0;36mpandas._libs.index.IndexEngine.get_loc\u001b[0;34m()\u001b[0m\n",
      "\u001b[0;31mKeyError\u001b[0m: '0'"
     ]
    }
   ],
   "source": [
    "result[]"
   ]
  },
  {
   "cell_type": "code",
   "execution_count": 22,
   "metadata": {},
   "outputs": [],
   "source": [
    "res = np.zeros(24)\n",
    "for i in result.index:\n",
    "    res[i]=result[i]"
   ]
  },
  {
   "cell_type": "code",
   "execution_count": 23,
   "metadata": {},
   "outputs": [
    {
     "name": "stdout",
     "output_type": "stream",
     "text": [
      "[ 18.   0.   0.   0.   0.   5.  40.  95. 178. 179. 308. 276. 218. 292.\n",
      " 420. 393. 411. 433. 388. 324. 208. 172. 108.  21.]\n"
     ]
    }
   ],
   "source": [
    "print(res)"
   ]
  },
  {
   "cell_type": "code",
   "execution_count": null,
   "metadata": {
    "collapsed": true
   },
   "outputs": [],
   "source": [
    "soda_data.groupByMin(transport='地铁', is_discount='非优惠', freq=2)"
   ]
  },
  {
   "cell_type": "code",
   "execution_count": 29,
   "metadata": {},
   "outputs": [
    {
     "data": {
      "text/html": [
       "<div>\n",
       "<style scoped>\n",
       "    .dataframe tbody tr th:only-of-type {\n",
       "        vertical-align: middle;\n",
       "    }\n",
       "\n",
       "    .dataframe tbody tr th {\n",
       "        vertical-align: top;\n",
       "    }\n",
       "\n",
       "    .dataframe thead th {\n",
       "        text-align: right;\n",
       "    }\n",
       "</style>\n",
       "<table border=\"1\" class=\"dataframe\">\n",
       "  <thead>\n",
       "    <tr style=\"text-align: right;\">\n",
       "      <th></th>\n",
       "      <th>card_id</th>\n",
       "      <th>date</th>\n",
       "      <th>time</th>\n",
       "      <th>line</th>\n",
       "      <th>transport</th>\n",
       "      <th>amount</th>\n",
       "      <th>is_discount</th>\n",
       "    </tr>\n",
       "  </thead>\n",
       "  <tbody>\n",
       "  </tbody>\n",
       "</table>\n",
       "</div>"
      ],
      "text/plain": [
       "Empty DataFrame\n",
       "Columns: [card_id, date, time, line, transport, amount, is_discount]\n",
       "Index: []"
      ]
     },
     "execution_count": 29,
     "metadata": {},
     "output_type": "execute_result"
    }
   ],
   "source": [
    "soda_data.data_filter_by_line_fuzzy_search(line_key_word='1号线南京西路',pat=1)"
   ]
  },
  {
   "cell_type": "code",
   "execution_count": null,
   "metadata": {
    "collapsed": true
   },
   "outputs": [],
   "source": []
  }
 ],
 "metadata": {
  "kernelspec": {
   "display_name": "Python 3",
   "language": "python",
   "name": "python3"
  },
  "language_info": {
   "codemirror_mode": {
    "name": "ipython",
    "version": 3
   },
   "file_extension": ".py",
   "mimetype": "text/x-python",
   "name": "python",
   "nbconvert_exporter": "python",
   "pygments_lexer": "ipython3",
   "version": "3.6.5"
  }
 },
 "nbformat": 4,
 "nbformat_minor": 2
}
